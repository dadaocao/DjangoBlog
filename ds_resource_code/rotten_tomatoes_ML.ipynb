{
 "cells": [
  {
   "cell_type": "code",
   "execution_count": 619,
   "metadata": {},
   "outputs": [],
   "source": [
    "#Import all necessary packages\n",
    "\n",
    "import pandas as pd\n",
    "from pandas.api.types import is_string_dtype,is_numeric_dtype\n",
    "from sklearn import preprocessing\n",
    "from sklearn.neighbors import KNeighborsClassifier\n",
    "from sklearn.metrics import confusion_matrix,accuracy_score,matthews_corrcoef,f1_score\n",
    "# from sklearn.externals import pickle,json\n",
    "import pickle,json\n",
    "from matplotlib import pyplot as plt\n",
    "import seaborn as sns\n",
    "import joblib\n",
    "import numpy as np \n",
    "import pandas as pd \n",
    "from matplotlib import pyplot as plt\n",
    "import matplotlib.animation as  animation \n",
    "import imageio\n",
    "import os \n",
    "# import cv2\n",
    "from PIL import Image\n",
    "import squarify\n",
    "%matplotlib inline"
   ]
  },
  {
   "cell_type": "code",
   "execution_count": 620,
   "metadata": {},
   "outputs": [
    {
     "data": {
      "text/plain": [
       "'/Users/melody/Desktop/repos/5002/project'"
      ]
     },
     "execution_count": 620,
     "metadata": {},
     "output_type": "execute_result"
    }
   ],
   "source": [
    "#Check the path to the directory where you are currently in\n",
    "%pwd"
   ]
  },
  {
   "cell_type": "code",
   "execution_count": 621,
   "metadata": {},
   "outputs": [],
   "source": [
    "my_path = '/Users/melody/Desktop/repos/5002/project'"
   ]
  },
  {
   "cell_type": "code",
   "execution_count": 622,
   "metadata": {},
   "outputs": [
    {
     "name": "stdout",
     "output_type": "stream",
     "text": [
      "\u001b[34m5002project1104\u001b[m\u001b[m                    rotten_tomatoes_ML.ipynb\r\n",
      "\u001b[34m5002project1104的副本\u001b[m\u001b[m              rotten_tomatoes_movies.csv\r\n",
      "Splash.pptx                        rotten_tomatoes_type_analyse.ipynb\r\n",
      "\u001b[34mknn_model\u001b[m\u001b[m\r\n"
     ]
    }
   ],
   "source": [
    "!ls"
   ]
  },
  {
   "cell_type": "code",
   "execution_count": 623,
   "metadata": {},
   "outputs": [
    {
     "name": "stdout",
     "output_type": "stream",
     "text": [
      "(17712, 22)\n"
     ]
    },
    {
     "data": {
      "text/html": [
       "<div>\n",
       "<style scoped>\n",
       "    .dataframe tbody tr th:only-of-type {\n",
       "        vertical-align: middle;\n",
       "    }\n",
       "\n",
       "    .dataframe tbody tr th {\n",
       "        vertical-align: top;\n",
       "    }\n",
       "\n",
       "    .dataframe thead th {\n",
       "        text-align: right;\n",
       "    }\n",
       "</style>\n",
       "<table border=\"1\" class=\"dataframe\">\n",
       "  <thead>\n",
       "    <tr style=\"text-align: right;\">\n",
       "      <th></th>\n",
       "      <th>rotten_tomatoes_link</th>\n",
       "      <th>movie_title</th>\n",
       "      <th>movie_info</th>\n",
       "      <th>critics_consensus</th>\n",
       "      <th>content_rating</th>\n",
       "      <th>genres</th>\n",
       "      <th>directors</th>\n",
       "      <th>authors</th>\n",
       "      <th>actors</th>\n",
       "      <th>original_release_date</th>\n",
       "      <th>...</th>\n",
       "      <th>production_company</th>\n",
       "      <th>tomatometer_status</th>\n",
       "      <th>tomatometer_rating</th>\n",
       "      <th>tomatometer_count</th>\n",
       "      <th>audience_status</th>\n",
       "      <th>audience_rating</th>\n",
       "      <th>audience_count</th>\n",
       "      <th>tomatometer_top_critics_count</th>\n",
       "      <th>tomatometer_fresh_critics_count</th>\n",
       "      <th>tomatometer_rotten_critics_count</th>\n",
       "    </tr>\n",
       "  </thead>\n",
       "  <tbody>\n",
       "    <tr>\n",
       "      <th>0</th>\n",
       "      <td>m/0814255</td>\n",
       "      <td>Percy Jackson &amp; the Olympians: The Lightning T...</td>\n",
       "      <td>Always trouble-prone, the life of teenager Per...</td>\n",
       "      <td>Though it may seem like just another Harry Pot...</td>\n",
       "      <td>PG</td>\n",
       "      <td>Action &amp; Adventure, Comedy, Drama, Science Fic...</td>\n",
       "      <td>Chris Columbus</td>\n",
       "      <td>Craig Titley, Chris Columbus, Rick Riordan</td>\n",
       "      <td>Logan Lerman, Brandon T. Jackson, Alexandra Da...</td>\n",
       "      <td>2010-02-12</td>\n",
       "      <td>...</td>\n",
       "      <td>20th Century Fox</td>\n",
       "      <td>Rotten</td>\n",
       "      <td>49.0</td>\n",
       "      <td>149.0</td>\n",
       "      <td>Spilled</td>\n",
       "      <td>53.0</td>\n",
       "      <td>254421.0</td>\n",
       "      <td>43</td>\n",
       "      <td>73</td>\n",
       "      <td>76</td>\n",
       "    </tr>\n",
       "    <tr>\n",
       "      <th>1</th>\n",
       "      <td>m/0878835</td>\n",
       "      <td>Please Give</td>\n",
       "      <td>Kate (Catherine Keener) and her husband Alex (...</td>\n",
       "      <td>Nicole Holofcener's newest might seem slight i...</td>\n",
       "      <td>R</td>\n",
       "      <td>Comedy</td>\n",
       "      <td>Nicole Holofcener</td>\n",
       "      <td>Nicole Holofcener</td>\n",
       "      <td>Catherine Keener, Amanda Peet, Oliver Platt, R...</td>\n",
       "      <td>2010-04-30</td>\n",
       "      <td>...</td>\n",
       "      <td>Sony Pictures Classics</td>\n",
       "      <td>Certified-Fresh</td>\n",
       "      <td>87.0</td>\n",
       "      <td>142.0</td>\n",
       "      <td>Upright</td>\n",
       "      <td>64.0</td>\n",
       "      <td>11574.0</td>\n",
       "      <td>44</td>\n",
       "      <td>123</td>\n",
       "      <td>19</td>\n",
       "    </tr>\n",
       "    <tr>\n",
       "      <th>2</th>\n",
       "      <td>m/10</td>\n",
       "      <td>10</td>\n",
       "      <td>A successful, middle-aged Hollywood songwriter...</td>\n",
       "      <td>Blake Edwards' bawdy comedy may not score a pe...</td>\n",
       "      <td>R</td>\n",
       "      <td>Comedy, Romance</td>\n",
       "      <td>Blake Edwards</td>\n",
       "      <td>Blake Edwards</td>\n",
       "      <td>Dudley Moore, Bo Derek, Julie Andrews, Robert ...</td>\n",
       "      <td>1979-10-05</td>\n",
       "      <td>...</td>\n",
       "      <td>Waner Bros.</td>\n",
       "      <td>Fresh</td>\n",
       "      <td>67.0</td>\n",
       "      <td>24.0</td>\n",
       "      <td>Spilled</td>\n",
       "      <td>53.0</td>\n",
       "      <td>14684.0</td>\n",
       "      <td>2</td>\n",
       "      <td>16</td>\n",
       "      <td>8</td>\n",
       "    </tr>\n",
       "  </tbody>\n",
       "</table>\n",
       "<p>3 rows × 22 columns</p>\n",
       "</div>"
      ],
      "text/plain": [
       "  rotten_tomatoes_link                                        movie_title  \\\n",
       "0            m/0814255  Percy Jackson & the Olympians: The Lightning T...   \n",
       "1            m/0878835                                        Please Give   \n",
       "2                 m/10                                                 10   \n",
       "\n",
       "                                          movie_info  \\\n",
       "0  Always trouble-prone, the life of teenager Per...   \n",
       "1  Kate (Catherine Keener) and her husband Alex (...   \n",
       "2  A successful, middle-aged Hollywood songwriter...   \n",
       "\n",
       "                                   critics_consensus content_rating  \\\n",
       "0  Though it may seem like just another Harry Pot...             PG   \n",
       "1  Nicole Holofcener's newest might seem slight i...              R   \n",
       "2  Blake Edwards' bawdy comedy may not score a pe...              R   \n",
       "\n",
       "                                              genres          directors  \\\n",
       "0  Action & Adventure, Comedy, Drama, Science Fic...     Chris Columbus   \n",
       "1                                             Comedy  Nicole Holofcener   \n",
       "2                                    Comedy, Romance      Blake Edwards   \n",
       "\n",
       "                                      authors  \\\n",
       "0  Craig Titley, Chris Columbus, Rick Riordan   \n",
       "1                           Nicole Holofcener   \n",
       "2                               Blake Edwards   \n",
       "\n",
       "                                              actors original_release_date  \\\n",
       "0  Logan Lerman, Brandon T. Jackson, Alexandra Da...            2010-02-12   \n",
       "1  Catherine Keener, Amanda Peet, Oliver Platt, R...            2010-04-30   \n",
       "2  Dudley Moore, Bo Derek, Julie Andrews, Robert ...            1979-10-05   \n",
       "\n",
       "   ...      production_company  tomatometer_status tomatometer_rating  \\\n",
       "0  ...        20th Century Fox              Rotten               49.0   \n",
       "1  ...  Sony Pictures Classics     Certified-Fresh               87.0   \n",
       "2  ...             Waner Bros.               Fresh               67.0   \n",
       "\n",
       "  tomatometer_count  audience_status  audience_rating audience_count  \\\n",
       "0             149.0          Spilled             53.0       254421.0   \n",
       "1             142.0          Upright             64.0        11574.0   \n",
       "2              24.0          Spilled             53.0        14684.0   \n",
       "\n",
       "   tomatometer_top_critics_count  tomatometer_fresh_critics_count  \\\n",
       "0                             43                               73   \n",
       "1                             44                              123   \n",
       "2                              2                               16   \n",
       "\n",
       "   tomatometer_rotten_critics_count  \n",
       "0                                76  \n",
       "1                                19  \n",
       "2                                 8  \n",
       "\n",
       "[3 rows x 22 columns]"
      ]
     },
     "execution_count": 623,
     "metadata": {},
     "output_type": "execute_result"
    }
   ],
   "source": [
    "# read in data\n",
    "my_df = pd.read_csv(f'{my_path}/rotten_tomatoes_movies.csv',\n",
    "                    low_memory = False)\n",
    "print(my_df.shape)\n",
    "my_df.head(3)"
   ]
  },
  {
   "cell_type": "code",
   "execution_count": 624,
   "metadata": {},
   "outputs": [
    {
     "name": "stdout",
     "output_type": "stream",
     "text": [
      "(12398, 22) (5314, 22)\n"
     ]
    }
   ],
   "source": [
    "#split the data into three sets in a 70-15-15 manner. \n",
    "#Calculate 15% of 17712. This is about 12398 rows of data. \n",
    "\n",
    "def mydf_splitter(my_df,num_rows):\n",
    "    return my_df[:num_rows].copy(),my_df[num_rows:]\n",
    "\n",
    "mydf_train_valid,mydf_test = mydf_splitter(my_df,12398)\n",
    "\n",
    "print(mydf_train_valid.shape,mydf_test.shape)\n"
   ]
  },
  {
   "cell_type": "code",
   "execution_count": 625,
   "metadata": {},
   "outputs": [
    {
     "data": {
      "text/plain": [
       "<AxesSubplot:xlabel='Feature', ylabel='Percent missing'>"
      ]
     },
     "execution_count": 625,
     "metadata": {},
     "output_type": "execute_result"
    },
    {
     "data": {
      "image/png": "[encoded data removed]",
      "text/plain": [
       "<Figure size 800x600 with 1 Axes>"
      ]
     },
     "metadata": {},
     "output_type": "display_data"
    }
   ],
   "source": [
    "#Deal with missing values\n",
    "\n",
    "null_vals = mydf_train_valid.isnull().sum()/len(mydf_train_valid)*100\n",
    "null_vals = pd.DataFrame(null_vals)\n",
    "null_vals.reset_index(inplace = True)\n",
    "null_vals.columns = [\"Feature\",\"Percent missing\"]\n",
    "plt.figure(figsize = (8,6))\n",
    "plt.xticks(rotation=45)\n",
    "sns.barplot(x = \"Feature\",y =\"Percent missing\",data = null_vals)"
   ]
  },
  {
   "cell_type": "code",
   "execution_count": 626,
   "metadata": {},
   "outputs": [
    {
     "name": "stdout",
     "output_type": "stream",
     "text": [
      "(12398, 21)\n"
     ]
    },
    {
     "data": {
      "text/html": [
       "<div>\n",
       "<style scoped>\n",
       "    .dataframe tbody tr th:only-of-type {\n",
       "        vertical-align: middle;\n",
       "    }\n",
       "\n",
       "    .dataframe tbody tr th {\n",
       "        vertical-align: top;\n",
       "    }\n",
       "\n",
       "    .dataframe thead th {\n",
       "        text-align: right;\n",
       "    }\n",
       "</style>\n",
       "<table border=\"1\" class=\"dataframe\">\n",
       "  <thead>\n",
       "    <tr style=\"text-align: right;\">\n",
       "      <th></th>\n",
       "      <th>rotten_tomatoes_link</th>\n",
       "      <th>movie_title</th>\n",
       "      <th>critics_consensus</th>\n",
       "      <th>content_rating</th>\n",
       "      <th>genres</th>\n",
       "      <th>directors</th>\n",
       "      <th>authors</th>\n",
       "      <th>actors</th>\n",
       "      <th>original_release_date</th>\n",
       "      <th>streaming_release_date</th>\n",
       "      <th>...</th>\n",
       "      <th>production_company</th>\n",
       "      <th>tomatometer_status</th>\n",
       "      <th>tomatometer_rating</th>\n",
       "      <th>tomatometer_count</th>\n",
       "      <th>audience_status</th>\n",
       "      <th>audience_rating</th>\n",
       "      <th>audience_count</th>\n",
       "      <th>tomatometer_top_critics_count</th>\n",
       "      <th>tomatometer_fresh_critics_count</th>\n",
       "      <th>tomatometer_rotten_critics_count</th>\n",
       "    </tr>\n",
       "  </thead>\n",
       "  <tbody>\n",
       "    <tr>\n",
       "      <th>0</th>\n",
       "      <td>m/0814255</td>\n",
       "      <td>Percy Jackson &amp; the Olympians: The Lightning T...</td>\n",
       "      <td>Though it may seem like just another Harry Pot...</td>\n",
       "      <td>PG</td>\n",
       "      <td>Action &amp; Adventure, Comedy, Drama, Science Fic...</td>\n",
       "      <td>Chris Columbus</td>\n",
       "      <td>Craig Titley, Chris Columbus, Rick Riordan</td>\n",
       "      <td>Logan Lerman, Brandon T. Jackson, Alexandra Da...</td>\n",
       "      <td>2010-02-12</td>\n",
       "      <td>2015-11-25</td>\n",
       "      <td>...</td>\n",
       "      <td>20th Century Fox</td>\n",
       "      <td>Rotten</td>\n",
       "      <td>49.0</td>\n",
       "      <td>149.0</td>\n",
       "      <td>Spilled</td>\n",
       "      <td>53.0</td>\n",
       "      <td>254421.0</td>\n",
       "      <td>43</td>\n",
       "      <td>73</td>\n",
       "      <td>76</td>\n",
       "    </tr>\n",
       "    <tr>\n",
       "      <th>1</th>\n",
       "      <td>m/0878835</td>\n",
       "      <td>Please Give</td>\n",
       "      <td>Nicole Holofcener's newest might seem slight i...</td>\n",
       "      <td>R</td>\n",
       "      <td>Comedy</td>\n",
       "      <td>Nicole Holofcener</td>\n",
       "      <td>Nicole Holofcener</td>\n",
       "      <td>Catherine Keener, Amanda Peet, Oliver Platt, R...</td>\n",
       "      <td>2010-04-30</td>\n",
       "      <td>2012-09-04</td>\n",
       "      <td>...</td>\n",
       "      <td>Sony Pictures Classics</td>\n",
       "      <td>Certified-Fresh</td>\n",
       "      <td>87.0</td>\n",
       "      <td>142.0</td>\n",
       "      <td>Upright</td>\n",
       "      <td>64.0</td>\n",
       "      <td>11574.0</td>\n",
       "      <td>44</td>\n",
       "      <td>123</td>\n",
       "      <td>19</td>\n",
       "    </tr>\n",
       "  </tbody>\n",
       "</table>\n",
       "<p>2 rows × 21 columns</p>\n",
       "</div>"
      ],
      "text/plain": [
       "  rotten_tomatoes_link                                        movie_title  \\\n",
       "0            m/0814255  Percy Jackson & the Olympians: The Lightning T...   \n",
       "1            m/0878835                                        Please Give   \n",
       "\n",
       "                                   critics_consensus content_rating  \\\n",
       "0  Though it may seem like just another Harry Pot...             PG   \n",
       "1  Nicole Holofcener's newest might seem slight i...              R   \n",
       "\n",
       "                                              genres          directors  \\\n",
       "0  Action & Adventure, Comedy, Drama, Science Fic...     Chris Columbus   \n",
       "1                                             Comedy  Nicole Holofcener   \n",
       "\n",
       "                                      authors  \\\n",
       "0  Craig Titley, Chris Columbus, Rick Riordan   \n",
       "1                           Nicole Holofcener   \n",
       "\n",
       "                                              actors original_release_date  \\\n",
       "0  Logan Lerman, Brandon T. Jackson, Alexandra Da...            2010-02-12   \n",
       "1  Catherine Keener, Amanda Peet, Oliver Platt, R...            2010-04-30   \n",
       "\n",
       "  streaming_release_date  ...      production_company tomatometer_status  \\\n",
       "0             2015-11-25  ...        20th Century Fox             Rotten   \n",
       "1             2012-09-04  ...  Sony Pictures Classics    Certified-Fresh   \n",
       "\n",
       "  tomatometer_rating  tomatometer_count  audience_status audience_rating  \\\n",
       "0               49.0              149.0          Spilled            53.0   \n",
       "1               87.0              142.0          Upright            64.0   \n",
       "\n",
       "   audience_count  tomatometer_top_critics_count  \\\n",
       "0        254421.0                             43   \n",
       "1         11574.0                             44   \n",
       "\n",
       "   tomatometer_fresh_critics_count  tomatometer_rotten_critics_count  \n",
       "0                               73                                76  \n",
       "1                              123                                19  \n",
       "\n",
       "[2 rows x 21 columns]"
      ]
     },
     "execution_count": 626,
     "metadata": {},
     "output_type": "execute_result"
    }
   ],
   "source": [
    "mydf_train_valid_2 = mydf_train_valid.drop(\"movie_info\",axis = 1)#清理缺失值过多的数据列\n",
    "print(mydf_train_valid_2.shape)\n",
    "mydf_train_valid_2.head(2)"
   ]
  },
  {
   "cell_type": "code",
   "execution_count": 627,
   "metadata": {},
   "outputs": [
    {
     "name": "stdout",
     "output_type": "stream",
     "text": [
      "<class 'pandas.core.frame.DataFrame'>\n",
      "RangeIndex: 12398 entries, 0 to 12397\n",
      "Data columns (total 21 columns):\n",
      " #   Column                            Non-Null Count  Dtype  \n",
      "---  ------                            --------------  -----  \n",
      " 0   rotten_tomatoes_link              12398 non-null  object \n",
      " 1   movie_title                       12398 non-null  object \n",
      " 2   critics_consensus                 6336 non-null   object \n",
      " 3   content_rating                    12398 non-null  object \n",
      " 4   genres                            12386 non-null  object \n",
      " 5   directors                         12271 non-null  object \n",
      " 6   authors                           11326 non-null  object \n",
      " 7   actors                            12168 non-null  object \n",
      " 8   original_release_date             11644 non-null  object \n",
      " 9   streaming_release_date            12146 non-null  object \n",
      " 10  runtime                           12194 non-null  float64\n",
      " 11  production_company                12073 non-null  object \n",
      " 12  tomatometer_status                12372 non-null  object \n",
      " 13  tomatometer_rating                12372 non-null  float64\n",
      " 14  tomatometer_count                 12372 non-null  float64\n",
      " 15  audience_status                   12124 non-null  object \n",
      " 16  audience_rating                   12221 non-null  float64\n",
      " 17  audience_count                    12221 non-null  float64\n",
      " 18  tomatometer_top_critics_count     12398 non-null  int64  \n",
      " 19  tomatometer_fresh_critics_count   12398 non-null  int64  \n",
      " 20  tomatometer_rotten_critics_count  12398 non-null  int64  \n",
      "dtypes: float64(5), int64(3), object(13)\n",
      "memory usage: 2.0+ MB\n"
     ]
    }
   ],
   "source": [
    "#Check types of each column with the dataframe info () method\n",
    "mydf_train_valid_2.info()"
   ]
  },
  {
   "cell_type": "code",
   "execution_count": 628,
   "metadata": {},
   "outputs": [],
   "source": [
    "'''You can see that several of the columns or features are \"object\" type\n",
    "These need to be changed to category before we can convert those to \n",
    "mappings and numbers'''\n",
    "#1 (a) Define a function to convert object types and string types to category type\n",
    "\n",
    "def str_to_cat(my_df):\n",
    "    for p,q in my_df.items(): #my_df.items() is a generator in Python\n",
    "        if is_string_dtype(q): \n",
    "            my_df[p] = q.astype('category').cat.as_ordered()\n",
    "    return my_df"
   ]
  },
  {
   "cell_type": "code",
   "execution_count": 629,
   "metadata": {},
   "outputs": [
    {
     "name": "stdout",
     "output_type": "stream",
     "text": [
      "\n"
     ]
    }
   ],
   "source": [
    "mydf_train_valid_3 = str_to_cat(mydf_train_valid_2)\n",
    "print()"
   ]
  },
  {
   "cell_type": "code",
   "execution_count": 630,
   "metadata": {},
   "outputs": [
    {
     "name": "stdout",
     "output_type": "stream",
     "text": [
      "<class 'pandas.core.frame.DataFrame'>\n",
      "RangeIndex: 12398 entries, 0 to 12397\n",
      "Data columns (total 21 columns):\n",
      " #   Column                            Non-Null Count  Dtype   \n",
      "---  ------                            --------------  -----   \n",
      " 0   rotten_tomatoes_link              12398 non-null  category\n",
      " 1   movie_title                       12398 non-null  category\n",
      " 2   critics_consensus                 6336 non-null   category\n",
      " 3   content_rating                    12398 non-null  category\n",
      " 4   genres                            12386 non-null  category\n",
      " 5   directors                         12271 non-null  category\n",
      " 6   authors                           11326 non-null  category\n",
      " 7   actors                            12168 non-null  category\n",
      " 8   original_release_date             11644 non-null  category\n",
      " 9   streaming_release_date            12146 non-null  category\n",
      " 10  runtime                           12194 non-null  float64 \n",
      " 11  production_company                12073 non-null  category\n",
      " 12  tomatometer_status                12372 non-null  category\n",
      " 13  tomatometer_rating                12372 non-null  float64 \n",
      " 14  tomatometer_count                 12372 non-null  float64 \n",
      " 15  audience_status                   12124 non-null  category\n",
      " 16  audience_rating                   12221 non-null  float64 \n",
      " 17  audience_count                    12221 non-null  float64 \n",
      " 18  tomatometer_top_critics_count     12398 non-null  int64   \n",
      " 19  tomatometer_fresh_critics_count   12398 non-null  int64   \n",
      " 20  tomatometer_rotten_critics_count  12398 non-null  int64   \n",
      "dtypes: category(13), float64(5), int64(3)\n",
      "memory usage: 3.4 MB\n"
     ]
    }
   ],
   "source": [
    "#Check dtypes of columns after this operation\n",
    "mydf_train_valid_3.info()"
   ]
  },
  {
   "cell_type": "code",
   "execution_count": 631,
   "metadata": {},
   "outputs": [
    {
     "name": "stdout",
     "output_type": "stream",
     "text": [
      "Index(['G', 'NC17', 'NR', 'PG', 'PG-13', 'R'], dtype='object')\n",
      "Index(['Certified-Fresh', 'Fresh', 'Rotten'], dtype='object')\n",
      "Index(['Spilled', 'Upright'], dtype='object')\n"
     ]
    }
   ],
   "source": [
    "#Check the cateogry mapping\n",
    "\n",
    "print(mydf_train_valid_3.content_rating.cat.categories)\n",
    "print(mydf_train_valid_3.tomatometer_status.cat.categories)\n",
    "print(mydf_train_valid_3.audience_status.cat.categories)\n"
   ]
  },
  {
   "cell_type": "code",
   "execution_count": 632,
   "metadata": {},
   "outputs": [],
   "source": [
    "#Define impute functions\n",
    "\n",
    "def mydf_to_nums(my_df, feature, null_status):\n",
    "    if not is_numeric_dtype(feature):\n",
    "        my_df[null_status] = feature.cat.codes + 1\n",
    "        \n",
    "def mydf_imputer(my_df, feature, null_status, null_table):\n",
    "    if is_numeric_dtype(feature):\n",
    "        if pd.isnull(feature).sum() or (null_status in null_table):\n",
    "            my_df[null_status+'_na'] = pd.isnull(feature)\n",
    "            filler = null_table[null_status] if null_status in null_table else feature.median()\n",
    "            my_df[null_status] = feature.fillna(filler)\n",
    "            null_table[null_status] = filler\n",
    "    return null_table   \n",
    "\n",
    "def mydf_preprocessor(my_df, null_table):\n",
    "    '''null_table  = your table or None'''\n",
    "    \n",
    "    if null_table is None: \n",
    "        null_table = dict()\n",
    "    for p,q in my_df.items(): \n",
    "        null_table = mydf_imputer(my_df, q, p, null_table)\n",
    "    for p,q in my_df.items(): \n",
    "        mydf_to_nums(my_df, q, p)\n",
    "    my_df = pd.get_dummies(my_df, dummy_na = True)\n",
    "    res = [my_df, null_table]\n",
    "    return res"
   ]
  },
  {
   "cell_type": "code",
   "execution_count": 633,
   "metadata": {},
   "outputs": [],
   "source": [
    "mydf_train_valid_4,my_table = mydf_preprocessor(mydf_train_valid_3,null_table = None)"
   ]
  },
  {
   "cell_type": "code",
   "execution_count": 634,
   "metadata": {},
   "outputs": [
    {
     "data": {
      "text/plain": [
       "Index(['rotten_tomatoes_link', 'movie_title', 'critics_consensus',\n",
       "       'content_rating', 'genres', 'directors', 'authors', 'actors',\n",
       "       'original_release_date', 'streaming_release_date', 'runtime',\n",
       "       'production_company', 'tomatometer_status', 'tomatometer_rating',\n",
       "       'tomatometer_count', 'audience_status', 'audience_rating',\n",
       "       'audience_count', 'tomatometer_top_critics_count',\n",
       "       'tomatometer_fresh_critics_count', 'tomatometer_rotten_critics_count',\n",
       "       'runtime_na', 'tomatometer_rating_na', 'tomatometer_count_na',\n",
       "       'audience_rating_na', 'audience_count_na'],\n",
       "      dtype='object')"
      ]
     },
     "execution_count": 634,
     "metadata": {},
     "output_type": "execute_result"
    }
   ],
   "source": [
    "mydf_train_valid_4.head(3)\n",
    "mydf_train_valid_4.columns"
   ]
  },
  {
   "cell_type": "code",
   "execution_count": 635,
   "metadata": {},
   "outputs": [
    {
     "data": {
      "text/plain": [
       "{'runtime': 99.0,\n",
       " 'tomatometer_rating': 66.0,\n",
       " 'tomatometer_count': 28.0,\n",
       " 'audience_rating': 63.0,\n",
       " 'audience_count': 4692.0}"
      ]
     },
     "execution_count": 635,
     "metadata": {},
     "output_type": "execute_result"
    }
   ],
   "source": [
    "my_table"
   ]
  },
  {
   "cell_type": "code",
   "execution_count": 636,
   "metadata": {},
   "outputs": [
    {
     "name": "stdout",
     "output_type": "stream",
     "text": [
      "(12398, 25) (12398,)\n"
     ]
    }
   ],
   "source": [
    "#Vertical split of the dataframe). Here the Y column is the variable we are trying to predict (spilled or upright)\n",
    "Y = mydf_train_valid_4[\"audience_status\"]\n",
    "X = mydf_train_valid_4.drop([\"audience_status\"],axis = 1)\n",
    "\n",
    "print(X.shape,Y.shape)"
   ]
  },
  {
   "cell_type": "code",
   "execution_count": 637,
   "metadata": {},
   "outputs": [
    {
     "name": "stdout",
     "output_type": "stream",
     "text": [
      "(12398, 23) (12398, 2)\n"
     ]
    }
   ],
   "source": [
    "X_cat = X[['audience_rating','rotten_tomatoes_link', 'movie_title','critics_consensus','content_rating', 'genres', 'directors', 'authors', 'actors','original_release_date', 'streaming_release_date','production_company', 'tomatometer_rating','tomatometer_count', 'tomatometer_status','tomatometer_top_critics_count','tomatometer_fresh_critics_count','tomatometer_rotten_critics_count','runtime_na','tomatometer_rating_na', 'tomatometer_count_na','audience_rating_na','audience_count_na']]\n",
    "X_con = X.drop(X_cat,axis = 1)\n",
    "print(X_cat.shape,X_con.shape)"
   ]
  },
  {
   "cell_type": "code",
   "execution_count": 638,
   "metadata": {},
   "outputs": [
    {
     "name": "stdout",
     "output_type": "stream",
     "text": [
      "(12398, 2)\n"
     ]
    },
    {
     "data": {
      "text/html": [
       "<div>\n",
       "<style scoped>\n",
       "    .dataframe tbody tr th:only-of-type {\n",
       "        vertical-align: middle;\n",
       "    }\n",
       "\n",
       "    .dataframe tbody tr th {\n",
       "        vertical-align: top;\n",
       "    }\n",
       "\n",
       "    .dataframe thead th {\n",
       "        text-align: right;\n",
       "    }\n",
       "</style>\n",
       "<table border=\"1\" class=\"dataframe\">\n",
       "  <thead>\n",
       "    <tr style=\"text-align: right;\">\n",
       "      <th></th>\n",
       "      <th>runtime</th>\n",
       "      <th>audience_count</th>\n",
       "    </tr>\n",
       "  </thead>\n",
       "  <tbody>\n",
       "    <tr>\n",
       "      <th>0</th>\n",
       "      <td>0.883117</td>\n",
       "      <td>0.066293</td>\n",
       "    </tr>\n",
       "    <tr>\n",
       "      <th>1</th>\n",
       "      <td>-0.653547</td>\n",
       "      <td>-0.075087</td>\n",
       "    </tr>\n",
       "    <tr>\n",
       "      <th>2</th>\n",
       "      <td>1.042083</td>\n",
       "      <td>-0.073277</td>\n",
       "    </tr>\n",
       "  </tbody>\n",
       "</table>\n",
       "</div>"
      ],
      "text/plain": [
       "    runtime  audience_count\n",
       "0  0.883117        0.066293\n",
       "1 -0.653547       -0.075087\n",
       "2  1.042083       -0.073277"
      ]
     },
     "execution_count": 638,
     "metadata": {},
     "output_type": "execute_result"
    }
   ],
   "source": [
    "#Scale the continuous variables\n",
    "\n",
    "scaler = preprocessing.StandardScaler().fit(X_con)\n",
    "X_con_sc = pd.DataFrame(scaler.transform(X_con))\n",
    "X_con_sc.columns = [\"runtime\",\"audience_count\"]\n",
    "print(X_con_sc.shape)\n",
    "X_con_sc.head(3)"
   ]
  },
  {
   "cell_type": "code",
   "execution_count": 639,
   "metadata": {},
   "outputs": [
    {
     "name": "stdout",
     "output_type": "stream",
     "text": [
      "(12398, 25)\n"
     ]
    },
    {
     "data": {
      "text/html": [
       "<div>\n",
       "<style scoped>\n",
       "    .dataframe tbody tr th:only-of-type {\n",
       "        vertical-align: middle;\n",
       "    }\n",
       "\n",
       "    .dataframe tbody tr th {\n",
       "        vertical-align: top;\n",
       "    }\n",
       "\n",
       "    .dataframe thead th {\n",
       "        text-align: right;\n",
       "    }\n",
       "</style>\n",
       "<table border=\"1\" class=\"dataframe\">\n",
       "  <thead>\n",
       "    <tr style=\"text-align: right;\">\n",
       "      <th></th>\n",
       "      <th>audience_rating</th>\n",
       "      <th>rotten_tomatoes_link</th>\n",
       "      <th>movie_title</th>\n",
       "      <th>critics_consensus</th>\n",
       "      <th>content_rating</th>\n",
       "      <th>genres</th>\n",
       "      <th>directors</th>\n",
       "      <th>authors</th>\n",
       "      <th>actors</th>\n",
       "      <th>original_release_date</th>\n",
       "      <th>...</th>\n",
       "      <th>tomatometer_top_critics_count</th>\n",
       "      <th>tomatometer_fresh_critics_count</th>\n",
       "      <th>tomatometer_rotten_critics_count</th>\n",
       "      <th>runtime_na</th>\n",
       "      <th>tomatometer_rating_na</th>\n",
       "      <th>tomatometer_count_na</th>\n",
       "      <th>audience_rating_na</th>\n",
       "      <th>audience_count_na</th>\n",
       "      <th>runtime</th>\n",
       "      <th>audience_count</th>\n",
       "    </tr>\n",
       "  </thead>\n",
       "  <tbody>\n",
       "    <tr>\n",
       "      <th>0</th>\n",
       "      <td>53.0</td>\n",
       "      <td>1</td>\n",
       "      <td>9708</td>\n",
       "      <td>5681</td>\n",
       "      <td>4</td>\n",
       "      <td>180</td>\n",
       "      <td>1083</td>\n",
       "      <td>1756</td>\n",
       "      <td>7281</td>\n",
       "      <td>3863</td>\n",
       "      <td>...</td>\n",
       "      <td>43</td>\n",
       "      <td>73</td>\n",
       "      <td>76</td>\n",
       "      <td>False</td>\n",
       "      <td>False</td>\n",
       "      <td>False</td>\n",
       "      <td>False</td>\n",
       "      <td>False</td>\n",
       "      <td>0.883117</td>\n",
       "      <td>0.066293</td>\n",
       "    </tr>\n",
       "    <tr>\n",
       "      <th>1</th>\n",
       "      <td>64.0</td>\n",
       "      <td>2</td>\n",
       "      <td>9868</td>\n",
       "      <td>4123</td>\n",
       "      <td>6</td>\n",
       "      <td>627</td>\n",
       "      <td>4869</td>\n",
       "      <td>6713</td>\n",
       "      <td>1844</td>\n",
       "      <td>3882</td>\n",
       "      <td>...</td>\n",
       "      <td>44</td>\n",
       "      <td>123</td>\n",
       "      <td>19</td>\n",
       "      <td>False</td>\n",
       "      <td>False</td>\n",
       "      <td>False</td>\n",
       "      <td>False</td>\n",
       "      <td>False</td>\n",
       "      <td>-0.653547</td>\n",
       "      <td>-0.075087</td>\n",
       "    </tr>\n",
       "  </tbody>\n",
       "</table>\n",
       "<p>2 rows × 25 columns</p>\n",
       "</div>"
      ],
      "text/plain": [
       "   audience_rating  rotten_tomatoes_link  movie_title  critics_consensus  \\\n",
       "0             53.0                     1         9708               5681   \n",
       "1             64.0                     2         9868               4123   \n",
       "\n",
       "   content_rating  genres  directors  authors  actors  original_release_date  \\\n",
       "0               4     180       1083     1756    7281                   3863   \n",
       "1               6     627       4869     6713    1844                   3882   \n",
       "\n",
       "   ...  tomatometer_top_critics_count  tomatometer_fresh_critics_count  \\\n",
       "0  ...                             43                               73   \n",
       "1  ...                             44                              123   \n",
       "\n",
       "   tomatometer_rotten_critics_count  runtime_na  tomatometer_rating_na  \\\n",
       "0                                76       False                  False   \n",
       "1                                19       False                  False   \n",
       "\n",
       "   tomatometer_count_na  audience_rating_na  audience_count_na   runtime  \\\n",
       "0                 False               False              False  0.883117   \n",
       "1                 False               False              False -0.653547   \n",
       "\n",
       "   audience_count  \n",
       "0        0.066293  \n",
       "1       -0.075087  \n",
       "\n",
       "[2 rows x 25 columns]"
      ]
     },
     "execution_count": 639,
     "metadata": {},
     "output_type": "execute_result"
    }
   ],
   "source": [
    "#Store this scaler variable \n",
    "\n",
    "df_list = [X_cat,X_con_sc]\n",
    "X_full = pd.concat(df_list,axis = 1)\n",
    "print(X_full.shape)\n",
    "X_full.head(2)"
   ]
  },
  {
   "cell_type": "code",
   "execution_count": 640,
   "metadata": {},
   "outputs": [
    {
     "name": "stdout",
     "output_type": "stream",
     "text": [
      "(900, 25) (11498, 25) (900,) (11498,)\n"
     ]
    }
   ],
   "source": [
    "#Split into train and valid sets for model building \n",
    "\n",
    "X_train,X_valid = mydf_splitter(X_full,900)\n",
    "Y_train,Y_valid = mydf_splitter(Y,900)\n",
    "\n",
    "print(X_train.shape,X_valid.shape,Y_train.shape,Y_valid.shape)\n"
   ]
  },
  {
   "cell_type": "code",
   "execution_count": 641,
   "metadata": {},
   "outputs": [
    {
     "name": "stderr",
     "output_type": "stream",
     "text": [
      "/Users/melody/opt/anaconda3/lib/python3.9/site-packages/sklearn/neighbors/_classification.py:228: FutureWarning: Unlike other reduction functions (e.g. `skew`, `kurtosis`), the default behavior of `mode` typically preserves the axis it acts along. In SciPy 1.11.0, this behavior will change: the default value of `keepdims` will become False, the `axis` over which the statistic is taken will be eliminated, and the value None will no longer be accepted. Set `keepdims` to True or False to avoid this warning.\n",
      "  mode, _ = stats.mode(_y[neigh_ind, k], axis=1)\n"
     ]
    }
   ],
   "source": [
    "#Training the model and evaluating it on the validation set\n",
    "\n",
    "my_knn_model = KNeighborsClassifier(n_neighbors = 5,weights = 'uniform')\n",
    "my_knn_model.fit(X_train,Y_train)\n",
    "\n",
    "#Predict on the validation set\n",
    "Y_pred = my_knn_model.predict(X_valid)\n",
    "# mode, _ = stats.mode(_y[neigh_ind, k], axis=1)"
   ]
  },
  {
   "cell_type": "code",
   "execution_count": 642,
   "metadata": {},
   "outputs": [
    {
     "data": {
      "text/plain": [
       "<AxesSubplot:>"
      ]
     },
     "execution_count": 642,
     "metadata": {},
     "output_type": "execute_result"
    },
    {
     "data": {
      "image/png": "[encoded data removed]",
      "text/plain": [
       "<Figure size 800x800 with 2 Axes>"
      ]
     },
     "metadata": {},
     "output_type": "display_data"
    }
   ],
   "source": [
    "# Plot confusion matrix\n",
    "from sklearn.metrics import confusion_matrix\n",
    "\n",
    "my_knn_cmatrix = confusion_matrix(Y_valid,Y_pred)\n",
    "\n",
    "my_knn_df = pd.DataFrame(my_knn_cmatrix)\n",
    "plt.figure(figsize = (8,8))\n",
    "sns.heatmap(my_knn_df, xticklabels = [\"Spilled\",\"Upright\"],\n",
    "            yticklabels = [\"Spilled\",\"Upright\"],annot = True)"
   ]
  },
  {
   "cell_type": "code",
   "execution_count": 643,
   "metadata": {},
   "outputs": [
    {
     "name": "stdout",
     "output_type": "stream",
     "text": [
      "0.5274830405287876 0.058001816587088695 0.5128700188013791\n"
     ]
    }
   ],
   "source": [
    "print(accuracy_score(Y_valid,Y_pred),\n",
    "      matthews_corrcoef(Y_valid,Y_pred),\n",
    "      f1_score(Y_valid,Y_pred,average='weighted'))\n",
    "\n",
    "#An MCC of -0.0474 looks bad !We need to do model tuning or \n",
    "#hyperparameter tuning to try to make it better"
   ]
  },
  {
   "cell_type": "code",
   "execution_count": 644,
   "metadata": {},
   "outputs": [
    {
     "name": "stderr",
     "output_type": "stream",
     "text": [
      "/Users/melody/opt/anaconda3/lib/python3.9/site-packages/sklearn/neighbors/_classification.py:228: FutureWarning: Unlike other reduction functions (e.g. `skew`, `kurtosis`), the default behavior of `mode` typically preserves the axis it acts along. In SciPy 1.11.0, this behavior will change: the default value of `keepdims` will become False, the `axis` over which the statistic is taken will be eliminated, and the value None will no longer be accepted. Set `keepdims` to True or False to avoid this warning.\n",
      "  mode, _ = stats.mode(_y[neigh_ind, k], axis=1)\n",
      "/Users/melody/opt/anaconda3/lib/python3.9/site-packages/sklearn/neighbors/_classification.py:228: FutureWarning: Unlike other reduction functions (e.g. `skew`, `kurtosis`), the default behavior of `mode` typically preserves the axis it acts along. In SciPy 1.11.0, this behavior will change: the default value of `keepdims` will become False, the `axis` over which the statistic is taken will be eliminated, and the value None will no longer be accepted. Set `keepdims` to True or False to avoid this warning.\n",
      "  mode, _ = stats.mode(_y[neigh_ind, k], axis=1)\n",
      "/Users/melody/opt/anaconda3/lib/python3.9/site-packages/sklearn/neighbors/_classification.py:228: FutureWarning: Unlike other reduction functions (e.g. `skew`, `kurtosis`), the default behavior of `mode` typically preserves the axis it acts along. In SciPy 1.11.0, this behavior will change: the default value of `keepdims` will become False, the `axis` over which the statistic is taken will be eliminated, and the value None will no longer be accepted. Set `keepdims` to True or False to avoid this warning.\n",
      "  mode, _ = stats.mode(_y[neigh_ind, k], axis=1)\n",
      "/Users/melody/opt/anaconda3/lib/python3.9/site-packages/sklearn/neighbors/_classification.py:228: FutureWarning: Unlike other reduction functions (e.g. `skew`, `kurtosis`), the default behavior of `mode` typically preserves the axis it acts along. In SciPy 1.11.0, this behavior will change: the default value of `keepdims` will become False, the `axis` over which the statistic is taken will be eliminated, and the value None will no longer be accepted. Set `keepdims` to True or False to avoid this warning.\n",
      "  mode, _ = stats.mode(_y[neigh_ind, k], axis=1)\n",
      "/Users/melody/opt/anaconda3/lib/python3.9/site-packages/sklearn/neighbors/_classification.py:228: FutureWarning: Unlike other reduction functions (e.g. `skew`, `kurtosis`), the default behavior of `mode` typically preserves the axis it acts along. In SciPy 1.11.0, this behavior will change: the default value of `keepdims` will become False, the `axis` over which the statistic is taken will be eliminated, and the value None will no longer be accepted. Set `keepdims` to True or False to avoid this warning.\n",
      "  mode, _ = stats.mode(_y[neigh_ind, k], axis=1)\n",
      "/Users/melody/opt/anaconda3/lib/python3.9/site-packages/sklearn/neighbors/_classification.py:228: FutureWarning: Unlike other reduction functions (e.g. `skew`, `kurtosis`), the default behavior of `mode` typically preserves the axis it acts along. In SciPy 1.11.0, this behavior will change: the default value of `keepdims` will become False, the `axis` over which the statistic is taken will be eliminated, and the value None will no longer be accepted. Set `keepdims` to True or False to avoid this warning.\n",
      "  mode, _ = stats.mode(_y[neigh_ind, k], axis=1)\n",
      "/Users/melody/opt/anaconda3/lib/python3.9/site-packages/sklearn/neighbors/_classification.py:228: FutureWarning: Unlike other reduction functions (e.g. `skew`, `kurtosis`), the default behavior of `mode` typically preserves the axis it acts along. In SciPy 1.11.0, this behavior will change: the default value of `keepdims` will become False, the `axis` over which the statistic is taken will be eliminated, and the value None will no longer be accepted. Set `keepdims` to True or False to avoid this warning.\n",
      "  mode, _ = stats.mode(_y[neigh_ind, k], axis=1)\n",
      "/Users/melody/opt/anaconda3/lib/python3.9/site-packages/sklearn/neighbors/_classification.py:228: FutureWarning: Unlike other reduction functions (e.g. `skew`, `kurtosis`), the default behavior of `mode` typically preserves the axis it acts along. In SciPy 1.11.0, this behavior will change: the default value of `keepdims` will become False, the `axis` over which the statistic is taken will be eliminated, and the value None will no longer be accepted. Set `keepdims` to True or False to avoid this warning.\n",
      "  mode, _ = stats.mode(_y[neigh_ind, k], axis=1)\n",
      "/Users/melody/opt/anaconda3/lib/python3.9/site-packages/sklearn/neighbors/_classification.py:228: FutureWarning: Unlike other reduction functions (e.g. `skew`, `kurtosis`), the default behavior of `mode` typically preserves the axis it acts along. In SciPy 1.11.0, this behavior will change: the default value of `keepdims` will become False, the `axis` over which the statistic is taken will be eliminated, and the value None will no longer be accepted. Set `keepdims` to True or False to avoid this warning.\n",
      "  mode, _ = stats.mode(_y[neigh_ind, k], axis=1)\n",
      "/Users/melody/opt/anaconda3/lib/python3.9/site-packages/sklearn/neighbors/_classification.py:228: FutureWarning: Unlike other reduction functions (e.g. `skew`, `kurtosis`), the default behavior of `mode` typically preserves the axis it acts along. In SciPy 1.11.0, this behavior will change: the default value of `keepdims` will become False, the `axis` over which the statistic is taken will be eliminated, and the value None will no longer be accepted. Set `keepdims` to True or False to avoid this warning.\n",
      "  mode, _ = stats.mode(_y[neigh_ind, k], axis=1)\n",
      "/Users/melody/opt/anaconda3/lib/python3.9/site-packages/sklearn/neighbors/_classification.py:228: FutureWarning: Unlike other reduction functions (e.g. `skew`, `kurtosis`), the default behavior of `mode` typically preserves the axis it acts along. In SciPy 1.11.0, this behavior will change: the default value of `keepdims` will become False, the `axis` over which the statistic is taken will be eliminated, and the value None will no longer be accepted. Set `keepdims` to True or False to avoid this warning.\n",
      "  mode, _ = stats.mode(_y[neigh_ind, k], axis=1)\n",
      "/Users/melody/opt/anaconda3/lib/python3.9/site-packages/sklearn/neighbors/_classification.py:228: FutureWarning: Unlike other reduction functions (e.g. `skew`, `kurtosis`), the default behavior of `mode` typically preserves the axis it acts along. In SciPy 1.11.0, this behavior will change: the default value of `keepdims` will become False, the `axis` over which the statistic is taken will be eliminated, and the value None will no longer be accepted. Set `keepdims` to True or False to avoid this warning.\n",
      "  mode, _ = stats.mode(_y[neigh_ind, k], axis=1)\n",
      "/Users/melody/opt/anaconda3/lib/python3.9/site-packages/sklearn/neighbors/_classification.py:228: FutureWarning: Unlike other reduction functions (e.g. `skew`, `kurtosis`), the default behavior of `mode` typically preserves the axis it acts along. In SciPy 1.11.0, this behavior will change: the default value of `keepdims` will become False, the `axis` over which the statistic is taken will be eliminated, and the value None will no longer be accepted. Set `keepdims` to True or False to avoid this warning.\n",
      "  mode, _ = stats.mode(_y[neigh_ind, k], axis=1)\n",
      "/Users/melody/opt/anaconda3/lib/python3.9/site-packages/sklearn/neighbors/_classification.py:228: FutureWarning: Unlike other reduction functions (e.g. `skew`, `kurtosis`), the default behavior of `mode` typically preserves the axis it acts along. In SciPy 1.11.0, this behavior will change: the default value of `keepdims` will become False, the `axis` over which the statistic is taken will be eliminated, and the value None will no longer be accepted. Set `keepdims` to True or False to avoid this warning.\n",
      "  mode, _ = stats.mode(_y[neigh_ind, k], axis=1)\n",
      "/Users/melody/opt/anaconda3/lib/python3.9/site-packages/sklearn/neighbors/_classification.py:228: FutureWarning: Unlike other reduction functions (e.g. `skew`, `kurtosis`), the default behavior of `mode` typically preserves the axis it acts along. In SciPy 1.11.0, this behavior will change: the default value of `keepdims` will become False, the `axis` over which the statistic is taken will be eliminated, and the value None will no longer be accepted. Set `keepdims` to True or False to avoid this warning.\n",
      "  mode, _ = stats.mode(_y[neigh_ind, k], axis=1)\n"
     ]
    },
    {
     "name": "stderr",
     "output_type": "stream",
     "text": [
      "/Users/melody/opt/anaconda3/lib/python3.9/site-packages/sklearn/neighbors/_classification.py:228: FutureWarning: Unlike other reduction functions (e.g. `skew`, `kurtosis`), the default behavior of `mode` typically preserves the axis it acts along. In SciPy 1.11.0, this behavior will change: the default value of `keepdims` will become False, the `axis` over which the statistic is taken will be eliminated, and the value None will no longer be accepted. Set `keepdims` to True or False to avoid this warning.\n",
      "  mode, _ = stats.mode(_y[neigh_ind, k], axis=1)\n",
      "/Users/melody/opt/anaconda3/lib/python3.9/site-packages/sklearn/neighbors/_classification.py:228: FutureWarning: Unlike other reduction functions (e.g. `skew`, `kurtosis`), the default behavior of `mode` typically preserves the axis it acts along. In SciPy 1.11.0, this behavior will change: the default value of `keepdims` will become False, the `axis` over which the statistic is taken will be eliminated, and the value None will no longer be accepted. Set `keepdims` to True or False to avoid this warning.\n",
      "  mode, _ = stats.mode(_y[neigh_ind, k], axis=1)\n",
      "/Users/melody/opt/anaconda3/lib/python3.9/site-packages/sklearn/neighbors/_classification.py:228: FutureWarning: Unlike other reduction functions (e.g. `skew`, `kurtosis`), the default behavior of `mode` typically preserves the axis it acts along. In SciPy 1.11.0, this behavior will change: the default value of `keepdims` will become False, the `axis` over which the statistic is taken will be eliminated, and the value None will no longer be accepted. Set `keepdims` to True or False to avoid this warning.\n",
      "  mode, _ = stats.mode(_y[neigh_ind, k], axis=1)\n",
      "/Users/melody/opt/anaconda3/lib/python3.9/site-packages/sklearn/neighbors/_classification.py:228: FutureWarning: Unlike other reduction functions (e.g. `skew`, `kurtosis`), the default behavior of `mode` typically preserves the axis it acts along. In SciPy 1.11.0, this behavior will change: the default value of `keepdims` will become False, the `axis` over which the statistic is taken will be eliminated, and the value None will no longer be accepted. Set `keepdims` to True or False to avoid this warning.\n",
      "  mode, _ = stats.mode(_y[neigh_ind, k], axis=1)\n"
     ]
    }
   ],
   "source": [
    "#Do hyper parameter tuning\n",
    "\n",
    "from sklearn.metrics import accuracy_score\n",
    "\n",
    "num_neighs = list()\n",
    "accuracy_list = list()\n",
    "\n",
    "\n",
    "for neighbor in range(1,20):\n",
    "    my_knn_model = KNeighborsClassifier(n_neighbors = neighbor,weights = 'uniform')\n",
    "    my_knn_model.fit(X_train,Y_train)\n",
    "    Y_pred = my_knn_model.predict(X_valid)\n",
    "    accuracy = accuracy_score(Y_valid,Y_pred)\n",
    "    num_neighs.append(neighbor)\n",
    "    accuracy_list.append(accuracy)\n",
    "\n"
   ]
  },
  {
   "cell_type": "code",
   "execution_count": 645,
   "metadata": {},
   "outputs": [
    {
     "data": {
      "text/html": [
       "<div>\n",
       "<style scoped>\n",
       "    .dataframe tbody tr th:only-of-type {\n",
       "        vertical-align: middle;\n",
       "    }\n",
       "\n",
       "    .dataframe tbody tr th {\n",
       "        vertical-align: top;\n",
       "    }\n",
       "\n",
       "    .dataframe thead th {\n",
       "        text-align: right;\n",
       "    }\n",
       "</style>\n",
       "<table border=\"1\" class=\"dataframe\">\n",
       "  <thead>\n",
       "    <tr style=\"text-align: right;\">\n",
       "      <th></th>\n",
       "      <th>Num of neighbors</th>\n",
       "      <th>Valid accuracy Score</th>\n",
       "    </tr>\n",
       "  </thead>\n",
       "  <tbody>\n",
       "    <tr>\n",
       "      <th>0</th>\n",
       "      <td>1</td>\n",
       "      <td>0.522439</td>\n",
       "    </tr>\n",
       "    <tr>\n",
       "      <th>1</th>\n",
       "      <td>2</td>\n",
       "      <td>0.495651</td>\n",
       "    </tr>\n",
       "    <tr>\n",
       "      <th>2</th>\n",
       "      <td>3</td>\n",
       "      <td>0.513655</td>\n",
       "    </tr>\n",
       "    <tr>\n",
       "      <th>3</th>\n",
       "      <td>4</td>\n",
       "      <td>0.506349</td>\n",
       "    </tr>\n",
       "    <tr>\n",
       "      <th>4</th>\n",
       "      <td>5</td>\n",
       "      <td>0.527483</td>\n",
       "    </tr>\n",
       "    <tr>\n",
       "      <th>5</th>\n",
       "      <td>6</td>\n",
       "      <td>0.522613</td>\n",
       "    </tr>\n",
       "    <tr>\n",
       "      <th>6</th>\n",
       "      <td>7</td>\n",
       "      <td>0.532353</td>\n",
       "    </tr>\n",
       "    <tr>\n",
       "      <th>7</th>\n",
       "      <td>8</td>\n",
       "      <td>0.527048</td>\n",
       "    </tr>\n",
       "    <tr>\n",
       "      <th>8</th>\n",
       "      <td>9</td>\n",
       "      <td>0.527048</td>\n",
       "    </tr>\n",
       "    <tr>\n",
       "      <th>9</th>\n",
       "      <td>10</td>\n",
       "      <td>0.527309</td>\n",
       "    </tr>\n",
       "    <tr>\n",
       "      <th>10</th>\n",
       "      <td>11</td>\n",
       "      <td>0.532962</td>\n",
       "    </tr>\n",
       "    <tr>\n",
       "      <th>11</th>\n",
       "      <td>12</td>\n",
       "      <td>0.529222</td>\n",
       "    </tr>\n",
       "    <tr>\n",
       "      <th>12</th>\n",
       "      <td>13</td>\n",
       "      <td>0.531919</td>\n",
       "    </tr>\n",
       "    <tr>\n",
       "      <th>13</th>\n",
       "      <td>14</td>\n",
       "      <td>0.529657</td>\n",
       "    </tr>\n",
       "    <tr>\n",
       "      <th>14</th>\n",
       "      <td>15</td>\n",
       "      <td>0.530353</td>\n",
       "    </tr>\n",
       "    <tr>\n",
       "      <th>15</th>\n",
       "      <td>16</td>\n",
       "      <td>0.531832</td>\n",
       "    </tr>\n",
       "    <tr>\n",
       "      <th>16</th>\n",
       "      <td>17</td>\n",
       "      <td>0.529222</td>\n",
       "    </tr>\n",
       "    <tr>\n",
       "      <th>17</th>\n",
       "      <td>18</td>\n",
       "      <td>0.526700</td>\n",
       "    </tr>\n",
       "    <tr>\n",
       "      <th>18</th>\n",
       "      <td>19</td>\n",
       "      <td>0.531223</td>\n",
       "    </tr>\n",
       "  </tbody>\n",
       "</table>\n",
       "</div>"
      ],
      "text/plain": [
       "    Num of neighbors  Valid accuracy Score\n",
       "0                  1              0.522439\n",
       "1                  2              0.495651\n",
       "2                  3              0.513655\n",
       "3                  4              0.506349\n",
       "4                  5              0.527483\n",
       "5                  6              0.522613\n",
       "6                  7              0.532353\n",
       "7                  8              0.527048\n",
       "8                  9              0.527048\n",
       "9                 10              0.527309\n",
       "10                11              0.532962\n",
       "11                12              0.529222\n",
       "12                13              0.531919\n",
       "13                14              0.529657\n",
       "14                15              0.530353\n",
       "15                16              0.531832\n",
       "16                17              0.529222\n",
       "17                18              0.526700\n",
       "18                19              0.531223"
      ]
     },
     "execution_count": 645,
     "metadata": {},
     "output_type": "execute_result"
    }
   ],
   "source": [
    "eval_df =  pd.DataFrame({\"Num of neighbors\": num_neighs,\"Valid accuracy Score\": accuracy_list})\n",
    "eval_df"
   ]
  },
  {
   "cell_type": "code",
   "execution_count": 646,
   "metadata": {},
   "outputs": [
    {
     "data": {
      "text/plain": [
       "<seaborn.axisgrid.PairGrid at 0x7fd8ad1e4640>"
      ]
     },
     "execution_count": 646,
     "metadata": {},
     "output_type": "execute_result"
    },
    {
     "data": {
      "image/png": "[encoded data removed]",
      "text/plain": [
       "<Figure size 400x400 with 1 Axes>"
      ]
     },
     "metadata": {},
     "output_type": "display_data"
    }
   ],
   "source": [
    "#Plot accuracy Vs validation set accuracy of the model\n",
    "sns.set_style(\"whitegrid\")\n",
    "sns.pairplot(eval_df,x_vars = \"Num of neighbors\",\n",
    "             y_vars = \"Valid accuracy Score\",plot_kws = {'s': 60},height = 4.0)"
   ]
  },
  {
   "cell_type": "code",
   "execution_count": 647,
   "metadata": {},
   "outputs": [
    {
     "name": "stdout",
     "output_type": "stream",
     "text": [
      "mkdir: knn_model: File exists\r\n"
     ]
    },
    {
     "data": {
      "text/plain": [
       "['/Users/melody/Desktop/repos/5002/project/knn_model/knn_model_final.sav']"
      ]
     },
     "execution_count": 647,
     "metadata": {},
     "output_type": "execute_result"
    }
   ],
   "source": [
    "'''Congrats, K = 14 seems to give the best validation set accuracy (= 0.6) !!! So, let's turn to the test set\n",
    "and use K = 14 for that !OK, so how do we save this trained and \n",
    "hyperparameter tuned model for later use? First, we club together, the\n",
    "train and valid set. We already have this dataframe. Then, we make and \n",
    "train a model with K = 14. Then save it with joblib, which we imported \n",
    "earlier'''\n",
    "\n",
    "\n",
    "knn_model_fin = KNeighborsClassifier(n_neighbors = 14,weights = 'uniform')\n",
    "knn_model_fin.fit(X_full,Y)\n",
    "\n",
    "!mkdir knn_model\n",
    "knn_model_name = f'{my_path}/knn_model/knn_model_final.sav'\n",
    "joblib.dump(knn_model_fin,knn_model_name)"
   ]
  },
  {
   "cell_type": "code",
   "execution_count": 648,
   "metadata": {},
   "outputs": [
    {
     "name": "stdout",
     "output_type": "stream",
     "text": [
      "knn_model_final.sav\r\n"
     ]
    }
   ],
   "source": [
    "#Make sure your model has been saved !\n",
    "!ls knn_model"
   ]
  },
  {
   "cell_type": "code",
   "execution_count": 649,
   "metadata": {},
   "outputs": [],
   "source": [
    "# Congrats! You have saved your model!Now, let's read it back in!\n",
    "knn_model_loaded = joblib.load(knn_model_name)"
   ]
  },
  {
   "cell_type": "code",
   "execution_count": 650,
   "metadata": {},
   "outputs": [
    {
     "name": "stdout",
     "output_type": "stream",
     "text": [
      "(5314, 22)\n"
     ]
    },
    {
     "data": {
      "text/html": [
       "<div>\n",
       "<style scoped>\n",
       "    .dataframe tbody tr th:only-of-type {\n",
       "        vertical-align: middle;\n",
       "    }\n",
       "\n",
       "    .dataframe tbody tr th {\n",
       "        vertical-align: top;\n",
       "    }\n",
       "\n",
       "    .dataframe thead th {\n",
       "        text-align: right;\n",
       "    }\n",
       "</style>\n",
       "<table border=\"1\" class=\"dataframe\">\n",
       "  <thead>\n",
       "    <tr style=\"text-align: right;\">\n",
       "      <th></th>\n",
       "      <th>rotten_tomatoes_link</th>\n",
       "      <th>movie_title</th>\n",
       "      <th>movie_info</th>\n",
       "      <th>critics_consensus</th>\n",
       "      <th>content_rating</th>\n",
       "      <th>genres</th>\n",
       "      <th>directors</th>\n",
       "      <th>authors</th>\n",
       "      <th>actors</th>\n",
       "      <th>original_release_date</th>\n",
       "      <th>...</th>\n",
       "      <th>production_company</th>\n",
       "      <th>tomatometer_status</th>\n",
       "      <th>tomatometer_rating</th>\n",
       "      <th>tomatometer_count</th>\n",
       "      <th>audience_status</th>\n",
       "      <th>audience_rating</th>\n",
       "      <th>audience_count</th>\n",
       "      <th>tomatometer_top_critics_count</th>\n",
       "      <th>tomatometer_fresh_critics_count</th>\n",
       "      <th>tomatometer_rotten_critics_count</th>\n",
       "    </tr>\n",
       "  </thead>\n",
       "  <tbody>\n",
       "    <tr>\n",
       "      <th>12398</th>\n",
       "      <td>m/reincarnated</td>\n",
       "      <td>Reincarnated</td>\n",
       "      <td>Rapper Snoop Dogg immerses himself in the Rast...</td>\n",
       "      <td>NaN</td>\n",
       "      <td>R</td>\n",
       "      <td>Documentary, Special Interest</td>\n",
       "      <td>Andy Capper</td>\n",
       "      <td>NaN</td>\n",
       "      <td>Dr. Dre, Daz, Diplo, Angela Hunte, Ariel Recht...</td>\n",
       "      <td>2013-03-15</td>\n",
       "      <td>...</td>\n",
       "      <td>AEC</td>\n",
       "      <td>Rotten</td>\n",
       "      <td>28.0</td>\n",
       "      <td>29.0</td>\n",
       "      <td>Spilled</td>\n",
       "      <td>41.0</td>\n",
       "      <td>492.0</td>\n",
       "      <td>14</td>\n",
       "      <td>8</td>\n",
       "      <td>21</td>\n",
       "    </tr>\n",
       "    <tr>\n",
       "      <th>12399</th>\n",
       "      <td>m/reindeer_games</td>\n",
       "      <td>Reindeer Games (Deception)</td>\n",
       "      <td>Just released from prison, all Rudy Duncan (Be...</td>\n",
       "      <td>Despite a decent cast, subpar acting and a con...</td>\n",
       "      <td>R</td>\n",
       "      <td>Action &amp; Adventure, Drama, Mystery &amp; Suspense</td>\n",
       "      <td>John Frankenheimer</td>\n",
       "      <td>Ehren Kruger</td>\n",
       "      <td>Ben Affleck, Gary Sinise, Charlize Theron, Den...</td>\n",
       "      <td>2000-02-25</td>\n",
       "      <td>...</td>\n",
       "      <td>Dimension Films</td>\n",
       "      <td>Rotten</td>\n",
       "      <td>25.0</td>\n",
       "      <td>88.0</td>\n",
       "      <td>Spilled</td>\n",
       "      <td>27.0</td>\n",
       "      <td>43115.0</td>\n",
       "      <td>27</td>\n",
       "      <td>22</td>\n",
       "      <td>66</td>\n",
       "    </tr>\n",
       "    <tr>\n",
       "      <th>12400</th>\n",
       "      <td>m/reivers</td>\n",
       "      <td>The Reivers</td>\n",
       "      <td>In Mississippi at the turn of the 20th century...</td>\n",
       "      <td>NaN</td>\n",
       "      <td>PG</td>\n",
       "      <td>Action &amp; Adventure, Classics, Comedy, Drama</td>\n",
       "      <td>Mark Rydell</td>\n",
       "      <td>Irving Ravetch, Harriet Frank Jr. / Irving Rav...</td>\n",
       "      <td>Steve McQueen, Sharon Farrell, Mitch Vogel, Ru...</td>\n",
       "      <td>1969-01-01</td>\n",
       "      <td>...</td>\n",
       "      <td>Viacom</td>\n",
       "      <td>Fresh</td>\n",
       "      <td>80.0</td>\n",
       "      <td>5.0</td>\n",
       "      <td>Spilled</td>\n",
       "      <td>49.0</td>\n",
       "      <td>1120.0</td>\n",
       "      <td>1</td>\n",
       "      <td>4</td>\n",
       "      <td>1</td>\n",
       "    </tr>\n",
       "  </tbody>\n",
       "</table>\n",
       "<p>3 rows × 22 columns</p>\n",
       "</div>"
      ],
      "text/plain": [
       "      rotten_tomatoes_link                 movie_title  \\\n",
       "12398       m/reincarnated                Reincarnated   \n",
       "12399     m/reindeer_games  Reindeer Games (Deception)   \n",
       "12400            m/reivers                 The Reivers   \n",
       "\n",
       "                                              movie_info  \\\n",
       "12398  Rapper Snoop Dogg immerses himself in the Rast...   \n",
       "12399  Just released from prison, all Rudy Duncan (Be...   \n",
       "12400  In Mississippi at the turn of the 20th century...   \n",
       "\n",
       "                                       critics_consensus content_rating  \\\n",
       "12398                                                NaN              R   \n",
       "12399  Despite a decent cast, subpar acting and a con...              R   \n",
       "12400                                                NaN             PG   \n",
       "\n",
       "                                              genres           directors  \\\n",
       "12398                  Documentary, Special Interest         Andy Capper   \n",
       "12399  Action & Adventure, Drama, Mystery & Suspense  John Frankenheimer   \n",
       "12400    Action & Adventure, Classics, Comedy, Drama         Mark Rydell   \n",
       "\n",
       "                                                 authors  \\\n",
       "12398                                                NaN   \n",
       "12399                                       Ehren Kruger   \n",
       "12400  Irving Ravetch, Harriet Frank Jr. / Irving Rav...   \n",
       "\n",
       "                                                  actors  \\\n",
       "12398  Dr. Dre, Daz, Diplo, Angela Hunte, Ariel Recht...   \n",
       "12399  Ben Affleck, Gary Sinise, Charlize Theron, Den...   \n",
       "12400  Steve McQueen, Sharon Farrell, Mitch Vogel, Ru...   \n",
       "\n",
       "      original_release_date  ... production_company  tomatometer_status  \\\n",
       "12398            2013-03-15  ...                AEC              Rotten   \n",
       "12399            2000-02-25  ...    Dimension Films              Rotten   \n",
       "12400            1969-01-01  ...             Viacom               Fresh   \n",
       "\n",
       "      tomatometer_rating tomatometer_count  audience_status  audience_rating  \\\n",
       "12398               28.0              29.0          Spilled             41.0   \n",
       "12399               25.0              88.0          Spilled             27.0   \n",
       "12400               80.0               5.0          Spilled             49.0   \n",
       "\n",
       "      audience_count  tomatometer_top_critics_count  \\\n",
       "12398          492.0                             14   \n",
       "12399        43115.0                             27   \n",
       "12400         1120.0                              1   \n",
       "\n",
       "       tomatometer_fresh_critics_count  tomatometer_rotten_critics_count  \n",
       "12398                                8                                21  \n",
       "12399                               22                                66  \n",
       "12400                                4                                 1  \n",
       "\n",
       "[3 rows x 22 columns]"
      ]
     },
     "execution_count": 650,
     "metadata": {},
     "output_type": "execute_result"
    }
   ],
   "source": [
    "#Before applying this on the test set, we need to pre-process the test set in exactly the same way we did the train_valid set \n",
    "\n",
    "print(mydf_test.shape)\n",
    "mydf_test.head(3)\n"
   ]
  },
  {
   "cell_type": "code",
   "execution_count": 651,
   "metadata": {},
   "outputs": [
    {
     "name": "stdout",
     "output_type": "stream",
     "text": [
      "(5314, 21)\n"
     ]
    },
    {
     "data": {
      "text/html": [
       "<div>\n",
       "<style scoped>\n",
       "    .dataframe tbody tr th:only-of-type {\n",
       "        vertical-align: middle;\n",
       "    }\n",
       "\n",
       "    .dataframe tbody tr th {\n",
       "        vertical-align: top;\n",
       "    }\n",
       "\n",
       "    .dataframe thead th {\n",
       "        text-align: right;\n",
       "    }\n",
       "</style>\n",
       "<table border=\"1\" class=\"dataframe\">\n",
       "  <thead>\n",
       "    <tr style=\"text-align: right;\">\n",
       "      <th></th>\n",
       "      <th>rotten_tomatoes_link</th>\n",
       "      <th>movie_title</th>\n",
       "      <th>critics_consensus</th>\n",
       "      <th>content_rating</th>\n",
       "      <th>genres</th>\n",
       "      <th>directors</th>\n",
       "      <th>authors</th>\n",
       "      <th>actors</th>\n",
       "      <th>original_release_date</th>\n",
       "      <th>streaming_release_date</th>\n",
       "      <th>...</th>\n",
       "      <th>production_company</th>\n",
       "      <th>tomatometer_status</th>\n",
       "      <th>tomatometer_rating</th>\n",
       "      <th>tomatometer_count</th>\n",
       "      <th>audience_status</th>\n",
       "      <th>audience_rating</th>\n",
       "      <th>audience_count</th>\n",
       "      <th>tomatometer_top_critics_count</th>\n",
       "      <th>tomatometer_fresh_critics_count</th>\n",
       "      <th>tomatometer_rotten_critics_count</th>\n",
       "    </tr>\n",
       "  </thead>\n",
       "  <tbody>\n",
       "    <tr>\n",
       "      <th>12398</th>\n",
       "      <td>m/reincarnated</td>\n",
       "      <td>Reincarnated</td>\n",
       "      <td>NaN</td>\n",
       "      <td>R</td>\n",
       "      <td>Documentary, Special Interest</td>\n",
       "      <td>Andy Capper</td>\n",
       "      <td>NaN</td>\n",
       "      <td>Dr. Dre, Daz, Diplo, Angela Hunte, Ariel Recht...</td>\n",
       "      <td>2013-03-15</td>\n",
       "      <td>2016-12-05</td>\n",
       "      <td>...</td>\n",
       "      <td>AEC</td>\n",
       "      <td>Rotten</td>\n",
       "      <td>28.0</td>\n",
       "      <td>29.0</td>\n",
       "      <td>Spilled</td>\n",
       "      <td>41.0</td>\n",
       "      <td>492.0</td>\n",
       "      <td>14</td>\n",
       "      <td>8</td>\n",
       "      <td>21</td>\n",
       "    </tr>\n",
       "    <tr>\n",
       "      <th>12399</th>\n",
       "      <td>m/reindeer_games</td>\n",
       "      <td>Reindeer Games (Deception)</td>\n",
       "      <td>Despite a decent cast, subpar acting and a con...</td>\n",
       "      <td>R</td>\n",
       "      <td>Action &amp; Adventure, Drama, Mystery &amp; Suspense</td>\n",
       "      <td>John Frankenheimer</td>\n",
       "      <td>Ehren Kruger</td>\n",
       "      <td>Ben Affleck, Gary Sinise, Charlize Theron, Den...</td>\n",
       "      <td>2000-02-25</td>\n",
       "      <td>2016-08-02</td>\n",
       "      <td>...</td>\n",
       "      <td>Dimension Films</td>\n",
       "      <td>Rotten</td>\n",
       "      <td>25.0</td>\n",
       "      <td>88.0</td>\n",
       "      <td>Spilled</td>\n",
       "      <td>27.0</td>\n",
       "      <td>43115.0</td>\n",
       "      <td>27</td>\n",
       "      <td>22</td>\n",
       "      <td>66</td>\n",
       "    </tr>\n",
       "    <tr>\n",
       "      <th>12400</th>\n",
       "      <td>m/reivers</td>\n",
       "      <td>The Reivers</td>\n",
       "      <td>NaN</td>\n",
       "      <td>PG</td>\n",
       "      <td>Action &amp; Adventure, Classics, Comedy, Drama</td>\n",
       "      <td>Mark Rydell</td>\n",
       "      <td>Irving Ravetch, Harriet Frank Jr. / Irving Rav...</td>\n",
       "      <td>Steve McQueen, Sharon Farrell, Mitch Vogel, Ru...</td>\n",
       "      <td>1969-01-01</td>\n",
       "      <td>2020-09-01</td>\n",
       "      <td>...</td>\n",
       "      <td>Viacom</td>\n",
       "      <td>Fresh</td>\n",
       "      <td>80.0</td>\n",
       "      <td>5.0</td>\n",
       "      <td>Spilled</td>\n",
       "      <td>49.0</td>\n",
       "      <td>1120.0</td>\n",
       "      <td>1</td>\n",
       "      <td>4</td>\n",
       "      <td>1</td>\n",
       "    </tr>\n",
       "  </tbody>\n",
       "</table>\n",
       "<p>3 rows × 21 columns</p>\n",
       "</div>"
      ],
      "text/plain": [
       "      rotten_tomatoes_link                 movie_title  \\\n",
       "12398       m/reincarnated                Reincarnated   \n",
       "12399     m/reindeer_games  Reindeer Games (Deception)   \n",
       "12400            m/reivers                 The Reivers   \n",
       "\n",
       "                                       critics_consensus content_rating  \\\n",
       "12398                                                NaN              R   \n",
       "12399  Despite a decent cast, subpar acting and a con...              R   \n",
       "12400                                                NaN             PG   \n",
       "\n",
       "                                              genres           directors  \\\n",
       "12398                  Documentary, Special Interest         Andy Capper   \n",
       "12399  Action & Adventure, Drama, Mystery & Suspense  John Frankenheimer   \n",
       "12400    Action & Adventure, Classics, Comedy, Drama         Mark Rydell   \n",
       "\n",
       "                                                 authors  \\\n",
       "12398                                                NaN   \n",
       "12399                                       Ehren Kruger   \n",
       "12400  Irving Ravetch, Harriet Frank Jr. / Irving Rav...   \n",
       "\n",
       "                                                  actors  \\\n",
       "12398  Dr. Dre, Daz, Diplo, Angela Hunte, Ariel Recht...   \n",
       "12399  Ben Affleck, Gary Sinise, Charlize Theron, Den...   \n",
       "12400  Steve McQueen, Sharon Farrell, Mitch Vogel, Ru...   \n",
       "\n",
       "      original_release_date streaming_release_date  ...  production_company  \\\n",
       "12398            2013-03-15             2016-12-05  ...                 AEC   \n",
       "12399            2000-02-25             2016-08-02  ...     Dimension Films   \n",
       "12400            1969-01-01             2020-09-01  ...              Viacom   \n",
       "\n",
       "      tomatometer_status tomatometer_rating  tomatometer_count  \\\n",
       "12398             Rotten               28.0               29.0   \n",
       "12399             Rotten               25.0               88.0   \n",
       "12400              Fresh               80.0                5.0   \n",
       "\n",
       "       audience_status audience_rating  audience_count  \\\n",
       "12398          Spilled            41.0           492.0   \n",
       "12399          Spilled            27.0         43115.0   \n",
       "12400          Spilled            49.0          1120.0   \n",
       "\n",
       "       tomatometer_top_critics_count  tomatometer_fresh_critics_count  \\\n",
       "12398                             14                                8   \n",
       "12399                             27                               22   \n",
       "12400                              1                                4   \n",
       "\n",
       "       tomatometer_rotten_critics_count  \n",
       "12398                                21  \n",
       "12399                                66  \n",
       "12400                                 1  \n",
       "\n",
       "[3 rows x 21 columns]"
      ]
     },
     "execution_count": 651,
     "metadata": {},
     "output_type": "execute_result"
    }
   ],
   "source": [
    "#get rid of the \"cabin\" column as we did before with the train_valid set\n",
    "mydf_test1 = mydf_test.drop(\"movie_info\",axis = 1)\n",
    "print(mydf_test1.shape)\n",
    "mydf_test1.head(3)"
   ]
  },
  {
   "cell_type": "code",
   "execution_count": 652,
   "metadata": {},
   "outputs": [
    {
     "data": {
      "text/plain": [
       "Index(['!Women Art Revolution', '#Unfit: The Psychology of Donald Trump',\n",
       "       ''Round Midnight', ''X'---The Man With the X-Ray Eyes', '(Untitled)',\n",
       "       '...So Goes the Nation', '10 to Midnight', '12', '36 quai des orfevres',\n",
       "       'A River Runs Through It',\n",
       "       ...\n",
       "       'Zoom', 'Zoot Suit', 'Zootopia', 'Zorba the Greek', 'Zulu', 'Zulu Dawn',\n",
       "       'sleep furiously.', 'xXx: Return of Xander Cage',\n",
       "       'xXx: State of the Union', 'Átame! (Tie Me Up! Tie Me Down!)'],\n",
       "      dtype='object', length=5236)"
      ]
     },
     "execution_count": 652,
     "metadata": {},
     "output_type": "execute_result"
    }
   ],
   "source": [
    "mydf_test2 = str_to_cat(mydf_test1)\n",
    "mydf_test2.movie_title.cat.categories"
   ]
  },
  {
   "cell_type": "code",
   "execution_count": 653,
   "metadata": {},
   "outputs": [
    {
     "data": {
      "text/plain": [
       "Index(['G', 'NC17', 'NR', 'PG', 'PG-13', 'R'], dtype='object')"
      ]
     },
     "execution_count": 653,
     "metadata": {},
     "output_type": "execute_result"
    }
   ],
   "source": [
    "#Check for the Embarked column\n",
    "mydf_test2.content_rating.cat.categories"
   ]
  },
  {
   "cell_type": "code",
   "execution_count": 654,
   "metadata": {},
   "outputs": [
    {
     "name": "stdout",
     "output_type": "stream",
     "text": [
      "(5314, 26)\n"
     ]
    },
    {
     "data": {
      "text/html": [
       "<div>\n",
       "<style scoped>\n",
       "    .dataframe tbody tr th:only-of-type {\n",
       "        vertical-align: middle;\n",
       "    }\n",
       "\n",
       "    .dataframe tbody tr th {\n",
       "        vertical-align: top;\n",
       "    }\n",
       "\n",
       "    .dataframe thead th {\n",
       "        text-align: right;\n",
       "    }\n",
       "</style>\n",
       "<table border=\"1\" class=\"dataframe\">\n",
       "  <thead>\n",
       "    <tr style=\"text-align: right;\">\n",
       "      <th></th>\n",
       "      <th>rotten_tomatoes_link</th>\n",
       "      <th>movie_title</th>\n",
       "      <th>critics_consensus</th>\n",
       "      <th>content_rating</th>\n",
       "      <th>genres</th>\n",
       "      <th>directors</th>\n",
       "      <th>authors</th>\n",
       "      <th>actors</th>\n",
       "      <th>original_release_date</th>\n",
       "      <th>streaming_release_date</th>\n",
       "      <th>...</th>\n",
       "      <th>audience_rating</th>\n",
       "      <th>audience_count</th>\n",
       "      <th>tomatometer_top_critics_count</th>\n",
       "      <th>tomatometer_fresh_critics_count</th>\n",
       "      <th>tomatometer_rotten_critics_count</th>\n",
       "      <th>runtime_na</th>\n",
       "      <th>tomatometer_rating_na</th>\n",
       "      <th>tomatometer_count_na</th>\n",
       "      <th>audience_rating_na</th>\n",
       "      <th>audience_count_na</th>\n",
       "    </tr>\n",
       "  </thead>\n",
       "  <tbody>\n",
       "    <tr>\n",
       "      <th>12398</th>\n",
       "      <td>1</td>\n",
       "      <td>85</td>\n",
       "      <td>0</td>\n",
       "      <td>6</td>\n",
       "      <td>514</td>\n",
       "      <td>217</td>\n",
       "      <td>0</td>\n",
       "      <td>1340</td>\n",
       "      <td>2093</td>\n",
       "      <td>724</td>\n",
       "      <td>...</td>\n",
       "      <td>41.0</td>\n",
       "      <td>492.0</td>\n",
       "      <td>14</td>\n",
       "      <td>8</td>\n",
       "      <td>21</td>\n",
       "      <td>False</td>\n",
       "      <td>False</td>\n",
       "      <td>False</td>\n",
       "      <td>False</td>\n",
       "      <td>False</td>\n",
       "    </tr>\n",
       "    <tr>\n",
       "      <th>12399</th>\n",
       "      <td>2</td>\n",
       "      <td>86</td>\n",
       "      <td>548</td>\n",
       "      <td>6</td>\n",
       "      <td>164</td>\n",
       "      <td>1757</td>\n",
       "      <td>1256</td>\n",
       "      <td>443</td>\n",
       "      <td>1139</td>\n",
       "      <td>625</td>\n",
       "      <td>...</td>\n",
       "      <td>27.0</td>\n",
       "      <td>43115.0</td>\n",
       "      <td>27</td>\n",
       "      <td>22</td>\n",
       "      <td>66</td>\n",
       "      <td>False</td>\n",
       "      <td>False</td>\n",
       "      <td>False</td>\n",
       "      <td>False</td>\n",
       "      <td>False</td>\n",
       "    </tr>\n",
       "    <tr>\n",
       "      <th>12400</th>\n",
       "      <td>3</td>\n",
       "      <td>3111</td>\n",
       "      <td>0</td>\n",
       "      <td>4</td>\n",
       "      <td>73</td>\n",
       "      <td>2323</td>\n",
       "      <td>1719</td>\n",
       "      <td>4629</td>\n",
       "      <td>353</td>\n",
       "      <td>1405</td>\n",
       "      <td>...</td>\n",
       "      <td>49.0</td>\n",
       "      <td>1120.0</td>\n",
       "      <td>1</td>\n",
       "      <td>4</td>\n",
       "      <td>1</td>\n",
       "      <td>False</td>\n",
       "      <td>False</td>\n",
       "      <td>False</td>\n",
       "      <td>False</td>\n",
       "      <td>False</td>\n",
       "    </tr>\n",
       "  </tbody>\n",
       "</table>\n",
       "<p>3 rows × 26 columns</p>\n",
       "</div>"
      ],
      "text/plain": [
       "       rotten_tomatoes_link  movie_title  critics_consensus  content_rating  \\\n",
       "12398                     1           85                  0               6   \n",
       "12399                     2           86                548               6   \n",
       "12400                     3         3111                  0               4   \n",
       "\n",
       "       genres  directors  authors  actors  original_release_date  \\\n",
       "12398     514        217        0    1340                   2093   \n",
       "12399     164       1757     1256     443                   1139   \n",
       "12400      73       2323     1719    4629                    353   \n",
       "\n",
       "       streaming_release_date  ...  audience_rating  audience_count  \\\n",
       "12398                     724  ...             41.0           492.0   \n",
       "12399                     625  ...             27.0         43115.0   \n",
       "12400                    1405  ...             49.0          1120.0   \n",
       "\n",
       "       tomatometer_top_critics_count  tomatometer_fresh_critics_count  \\\n",
       "12398                             14                                8   \n",
       "12399                             27                               22   \n",
       "12400                              1                                4   \n",
       "\n",
       "       tomatometer_rotten_critics_count  runtime_na  tomatometer_rating_na  \\\n",
       "12398                                21       False                  False   \n",
       "12399                                66       False                  False   \n",
       "12400                                 1       False                  False   \n",
       "\n",
       "       tomatometer_count_na  audience_rating_na  audience_count_na  \n",
       "12398                 False               False              False  \n",
       "12399                 False               False              False  \n",
       "12400                 False               False              False  \n",
       "\n",
       "[3 rows x 26 columns]"
      ]
     },
     "execution_count": 654,
     "metadata": {},
     "output_type": "execute_result"
    }
   ],
   "source": [
    "#The category codes are the same. We can proceed.\n",
    "#Make sure you use the same impute values of median.\n",
    "mydf_test3,my_table1 = mydf_preprocessor(mydf_test2,\n",
    "                                         null_table = my_table)\n",
    "print(mydf_test3.shape)\n",
    "mydf_test3.head(3)"
   ]
  },
  {
   "cell_type": "code",
   "execution_count": 655,
   "metadata": {},
   "outputs": [
    {
     "data": {
      "text/plain": [
       "{'runtime': 99.0,\n",
       " 'tomatometer_rating': 66.0,\n",
       " 'tomatometer_count': 28.0,\n",
       " 'audience_rating': 63.0,\n",
       " 'audience_count': 4692.0}"
      ]
     },
     "execution_count": 655,
     "metadata": {},
     "output_type": "execute_result"
    }
   ],
   "source": [
    "my_table1"
   ]
  },
  {
   "cell_type": "code",
   "execution_count": 656,
   "metadata": {},
   "outputs": [
    {
     "name": "stdout",
     "output_type": "stream",
     "text": [
      "(5314, 25) (5314,)\n"
     ]
    }
   ],
   "source": [
    "# Now, let's split out the X and Y variables (vertical split of the dataframe)\n",
    "#Remember we did this previously!\n",
    "\n",
    "\n",
    "Y_t = mydf_test3[\"audience_status\"]\n",
    "X_t = mydf_test3.drop([\"audience_status\"],axis = 1)\n",
    "\n",
    "print(X_t.shape,Y_t.shape)"
   ]
  },
  {
   "cell_type": "code",
   "execution_count": 657,
   "metadata": {},
   "outputs": [
    {
     "name": "stdout",
     "output_type": "stream",
     "text": [
      "(5314, 23) (5314, 2)\n"
     ]
    }
   ],
   "source": [
    "#Separate continuous and categorical variables/columns for scaling\n",
    "\n",
    "X_cat_t = X_t[['audience_rating','rotten_tomatoes_link', 'movie_title','critics_consensus','content_rating', 'genres', 'directors', 'authors', 'actors','original_release_date', 'streaming_release_date','production_company', 'tomatometer_rating','tomatometer_count', 'tomatometer_status','tomatometer_top_critics_count','tomatometer_fresh_critics_count','tomatometer_rotten_critics_count','runtime_na','tomatometer_rating_na', 'tomatometer_count_na','audience_rating_na','audience_count_na']]\n",
    "X_con_t = X_t.drop(X_cat_t,axis = 1)\n",
    "print(X_cat_t.shape,X_con_t.shape)"
   ]
  },
  {
   "cell_type": "code",
   "execution_count": 658,
   "metadata": {},
   "outputs": [
    {
     "name": "stdout",
     "output_type": "stream",
     "text": [
      "(5314, 2)\n"
     ]
    },
    {
     "data": {
      "text/html": [
       "<div>\n",
       "<style scoped>\n",
       "    .dataframe tbody tr th:only-of-type {\n",
       "        vertical-align: middle;\n",
       "    }\n",
       "\n",
       "    .dataframe tbody tr th {\n",
       "        vertical-align: top;\n",
       "    }\n",
       "\n",
       "    .dataframe thead th {\n",
       "        text-align: right;\n",
       "    }\n",
       "</style>\n",
       "<table border=\"1\" class=\"dataframe\">\n",
       "  <thead>\n",
       "    <tr style=\"text-align: right;\">\n",
       "      <th></th>\n",
       "      <th>runtime</th>\n",
       "      <th>audience_count</th>\n",
       "    </tr>\n",
       "  </thead>\n",
       "  <tbody>\n",
       "    <tr>\n",
       "      <th>0</th>\n",
       "      <td>-0.335616</td>\n",
       "      <td>-0.081539</td>\n",
       "    </tr>\n",
       "    <tr>\n",
       "      <th>1</th>\n",
       "      <td>0.088291</td>\n",
       "      <td>-0.056725</td>\n",
       "    </tr>\n",
       "  </tbody>\n",
       "</table>\n",
       "</div>"
      ],
      "text/plain": [
       "    runtime  audience_count\n",
       "0 -0.335616       -0.081539\n",
       "1  0.088291       -0.056725"
      ]
     },
     "execution_count": 658,
     "metadata": {},
     "output_type": "execute_result"
    }
   ],
   "source": [
    "X_con_sct = pd.DataFrame(scaler.transform(X_con_t))\n",
    "X_con_sct.columns = [\"runtime\",\"audience_count\"]\n",
    "print(X_con_sct.shape)\n",
    "X_con_sct.head(2)\n"
   ]
  },
  {
   "cell_type": "code",
   "execution_count": 659,
   "metadata": {},
   "outputs": [
    {
     "name": "stdout",
     "output_type": "stream",
     "text": [
      "(5314, 23) (5314, 2)\n"
     ]
    }
   ],
   "source": [
    "print(X_cat_t.shape,X_con_sct.shape)"
   ]
  },
  {
   "cell_type": "code",
   "execution_count": 660,
   "metadata": {},
   "outputs": [],
   "source": [
    "#Re-index before merging\n",
    "X_cat_t.reset_index(inplace = True,drop = False)"
   ]
  },
  {
   "cell_type": "code",
   "execution_count": 661,
   "metadata": {},
   "outputs": [
    {
     "data": {
      "text/html": [
       "<div>\n",
       "<style scoped>\n",
       "    .dataframe tbody tr th:only-of-type {\n",
       "        vertical-align: middle;\n",
       "    }\n",
       "\n",
       "    .dataframe tbody tr th {\n",
       "        vertical-align: top;\n",
       "    }\n",
       "\n",
       "    .dataframe thead th {\n",
       "        text-align: right;\n",
       "    }\n",
       "</style>\n",
       "<table border=\"1\" class=\"dataframe\">\n",
       "  <thead>\n",
       "    <tr style=\"text-align: right;\">\n",
       "      <th></th>\n",
       "      <th>index</th>\n",
       "      <th>audience_rating</th>\n",
       "      <th>rotten_tomatoes_link</th>\n",
       "      <th>movie_title</th>\n",
       "      <th>critics_consensus</th>\n",
       "      <th>content_rating</th>\n",
       "      <th>genres</th>\n",
       "      <th>directors</th>\n",
       "      <th>authors</th>\n",
       "      <th>actors</th>\n",
       "      <th>...</th>\n",
       "      <th>tomatometer_count</th>\n",
       "      <th>tomatometer_status</th>\n",
       "      <th>tomatometer_top_critics_count</th>\n",
       "      <th>tomatometer_fresh_critics_count</th>\n",
       "      <th>tomatometer_rotten_critics_count</th>\n",
       "      <th>runtime_na</th>\n",
       "      <th>tomatometer_rating_na</th>\n",
       "      <th>tomatometer_count_na</th>\n",
       "      <th>audience_rating_na</th>\n",
       "      <th>audience_count_na</th>\n",
       "    </tr>\n",
       "  </thead>\n",
       "  <tbody>\n",
       "    <tr>\n",
       "      <th>0</th>\n",
       "      <td>12398</td>\n",
       "      <td>41.0</td>\n",
       "      <td>1</td>\n",
       "      <td>85</td>\n",
       "      <td>0</td>\n",
       "      <td>6</td>\n",
       "      <td>514</td>\n",
       "      <td>217</td>\n",
       "      <td>0</td>\n",
       "      <td>1340</td>\n",
       "      <td>...</td>\n",
       "      <td>29.0</td>\n",
       "      <td>3</td>\n",
       "      <td>14</td>\n",
       "      <td>8</td>\n",
       "      <td>21</td>\n",
       "      <td>False</td>\n",
       "      <td>False</td>\n",
       "      <td>False</td>\n",
       "      <td>False</td>\n",
       "      <td>False</td>\n",
       "    </tr>\n",
       "    <tr>\n",
       "      <th>1</th>\n",
       "      <td>12399</td>\n",
       "      <td>27.0</td>\n",
       "      <td>2</td>\n",
       "      <td>86</td>\n",
       "      <td>548</td>\n",
       "      <td>6</td>\n",
       "      <td>164</td>\n",
       "      <td>1757</td>\n",
       "      <td>1256</td>\n",
       "      <td>443</td>\n",
       "      <td>...</td>\n",
       "      <td>88.0</td>\n",
       "      <td>3</td>\n",
       "      <td>27</td>\n",
       "      <td>22</td>\n",
       "      <td>66</td>\n",
       "      <td>False</td>\n",
       "      <td>False</td>\n",
       "      <td>False</td>\n",
       "      <td>False</td>\n",
       "      <td>False</td>\n",
       "    </tr>\n",
       "    <tr>\n",
       "      <th>2</th>\n",
       "      <td>12400</td>\n",
       "      <td>49.0</td>\n",
       "      <td>3</td>\n",
       "      <td>3111</td>\n",
       "      <td>0</td>\n",
       "      <td>4</td>\n",
       "      <td>73</td>\n",
       "      <td>2323</td>\n",
       "      <td>1719</td>\n",
       "      <td>4629</td>\n",
       "      <td>...</td>\n",
       "      <td>5.0</td>\n",
       "      <td>2</td>\n",
       "      <td>1</td>\n",
       "      <td>4</td>\n",
       "      <td>1</td>\n",
       "      <td>False</td>\n",
       "      <td>False</td>\n",
       "      <td>False</td>\n",
       "      <td>False</td>\n",
       "      <td>False</td>\n",
       "    </tr>\n",
       "    <tr>\n",
       "      <th>3</th>\n",
       "      <td>12401</td>\n",
       "      <td>58.0</td>\n",
       "      <td>4</td>\n",
       "      <td>87</td>\n",
       "      <td>0</td>\n",
       "      <td>4</td>\n",
       "      <td>505</td>\n",
       "      <td>975</td>\n",
       "      <td>1179</td>\n",
       "      <td>4736</td>\n",
       "      <td>...</td>\n",
       "      <td>38.0</td>\n",
       "      <td>2</td>\n",
       "      <td>15</td>\n",
       "      <td>29</td>\n",
       "      <td>9</td>\n",
       "      <td>False</td>\n",
       "      <td>False</td>\n",
       "      <td>False</td>\n",
       "      <td>False</td>\n",
       "      <td>False</td>\n",
       "    </tr>\n",
       "    <tr>\n",
       "      <th>4</th>\n",
       "      <td>12402</td>\n",
       "      <td>63.0</td>\n",
       "      <td>5</td>\n",
       "      <td>88</td>\n",
       "      <td>0</td>\n",
       "      <td>4</td>\n",
       "      <td>47</td>\n",
       "      <td>1083</td>\n",
       "      <td>0</td>\n",
       "      <td>4555</td>\n",
       "      <td>...</td>\n",
       "      <td>5.0</td>\n",
       "      <td>3</td>\n",
       "      <td>2</td>\n",
       "      <td>1</td>\n",
       "      <td>4</td>\n",
       "      <td>False</td>\n",
       "      <td>False</td>\n",
       "      <td>False</td>\n",
       "      <td>False</td>\n",
       "      <td>False</td>\n",
       "    </tr>\n",
       "  </tbody>\n",
       "</table>\n",
       "<p>5 rows × 24 columns</p>\n",
       "</div>"
      ],
      "text/plain": [
       "   index  audience_rating  rotten_tomatoes_link  movie_title  \\\n",
       "0  12398             41.0                     1           85   \n",
       "1  12399             27.0                     2           86   \n",
       "2  12400             49.0                     3         3111   \n",
       "3  12401             58.0                     4           87   \n",
       "4  12402             63.0                     5           88   \n",
       "\n",
       "   critics_consensus  content_rating  genres  directors  authors  actors  ...  \\\n",
       "0                  0               6     514        217        0    1340  ...   \n",
       "1                548               6     164       1757     1256     443  ...   \n",
       "2                  0               4      73       2323     1719    4629  ...   \n",
       "3                  0               4     505        975     1179    4736  ...   \n",
       "4                  0               4      47       1083        0    4555  ...   \n",
       "\n",
       "   tomatometer_count  tomatometer_status  tomatometer_top_critics_count  \\\n",
       "0               29.0                   3                             14   \n",
       "1               88.0                   3                             27   \n",
       "2                5.0                   2                              1   \n",
       "3               38.0                   2                             15   \n",
       "4                5.0                   3                              2   \n",
       "\n",
       "   tomatometer_fresh_critics_count  tomatometer_rotten_critics_count  \\\n",
       "0                                8                                21   \n",
       "1                               22                                66   \n",
       "2                                4                                 1   \n",
       "3                               29                                 9   \n",
       "4                                1                                 4   \n",
       "\n",
       "   runtime_na  tomatometer_rating_na  tomatometer_count_na  \\\n",
       "0       False                  False                 False   \n",
       "1       False                  False                 False   \n",
       "2       False                  False                 False   \n",
       "3       False                  False                 False   \n",
       "4       False                  False                 False   \n",
       "\n",
       "   audience_rating_na  audience_count_na  \n",
       "0               False              False  \n",
       "1               False              False  \n",
       "2               False              False  \n",
       "3               False              False  \n",
       "4               False              False  \n",
       "\n",
       "[5 rows x 24 columns]"
      ]
     },
     "execution_count": 661,
     "metadata": {},
     "output_type": "execute_result"
    }
   ],
   "source": [
    "X_cat_t.head()"
   ]
  },
  {
   "cell_type": "code",
   "execution_count": 662,
   "metadata": {},
   "outputs": [
    {
     "name": "stderr",
     "output_type": "stream",
     "text": [
      "/var/folders/jc/tf67_fr517b0r5nng1m1d2fm0000gn/T/ipykernel_26004/3562070127.py:1: SettingWithCopyWarning: \n",
      "A value is trying to be set on a copy of a slice from a DataFrame\n",
      "\n",
      "See the caveats in the documentation: https://pandas.pydata.org/pandas-docs/stable/user_guide/indexing.html#returning-a-view-versus-a-copy\n",
      "  X_cat_t.drop(\"index\",inplace = True,axis = 1)\n"
     ]
    },
    {
     "data": {
      "text/html": [
       "<div>\n",
       "<style scoped>\n",
       "    .dataframe tbody tr th:only-of-type {\n",
       "        vertical-align: middle;\n",
       "    }\n",
       "\n",
       "    .dataframe tbody tr th {\n",
       "        vertical-align: top;\n",
       "    }\n",
       "\n",
       "    .dataframe thead th {\n",
       "        text-align: right;\n",
       "    }\n",
       "</style>\n",
       "<table border=\"1\" class=\"dataframe\">\n",
       "  <thead>\n",
       "    <tr style=\"text-align: right;\">\n",
       "      <th></th>\n",
       "      <th>audience_rating</th>\n",
       "      <th>rotten_tomatoes_link</th>\n",
       "      <th>movie_title</th>\n",
       "      <th>critics_consensus</th>\n",
       "      <th>content_rating</th>\n",
       "      <th>genres</th>\n",
       "      <th>directors</th>\n",
       "      <th>authors</th>\n",
       "      <th>actors</th>\n",
       "      <th>original_release_date</th>\n",
       "      <th>...</th>\n",
       "      <th>tomatometer_count</th>\n",
       "      <th>tomatometer_status</th>\n",
       "      <th>tomatometer_top_critics_count</th>\n",
       "      <th>tomatometer_fresh_critics_count</th>\n",
       "      <th>tomatometer_rotten_critics_count</th>\n",
       "      <th>runtime_na</th>\n",
       "      <th>tomatometer_rating_na</th>\n",
       "      <th>tomatometer_count_na</th>\n",
       "      <th>audience_rating_na</th>\n",
       "      <th>audience_count_na</th>\n",
       "    </tr>\n",
       "  </thead>\n",
       "  <tbody>\n",
       "    <tr>\n",
       "      <th>0</th>\n",
       "      <td>41.0</td>\n",
       "      <td>1</td>\n",
       "      <td>85</td>\n",
       "      <td>0</td>\n",
       "      <td>6</td>\n",
       "      <td>514</td>\n",
       "      <td>217</td>\n",
       "      <td>0</td>\n",
       "      <td>1340</td>\n",
       "      <td>2093</td>\n",
       "      <td>...</td>\n",
       "      <td>29.0</td>\n",
       "      <td>3</td>\n",
       "      <td>14</td>\n",
       "      <td>8</td>\n",
       "      <td>21</td>\n",
       "      <td>False</td>\n",
       "      <td>False</td>\n",
       "      <td>False</td>\n",
       "      <td>False</td>\n",
       "      <td>False</td>\n",
       "    </tr>\n",
       "    <tr>\n",
       "      <th>1</th>\n",
       "      <td>27.0</td>\n",
       "      <td>2</td>\n",
       "      <td>86</td>\n",
       "      <td>548</td>\n",
       "      <td>6</td>\n",
       "      <td>164</td>\n",
       "      <td>1757</td>\n",
       "      <td>1256</td>\n",
       "      <td>443</td>\n",
       "      <td>1139</td>\n",
       "      <td>...</td>\n",
       "      <td>88.0</td>\n",
       "      <td>3</td>\n",
       "      <td>27</td>\n",
       "      <td>22</td>\n",
       "      <td>66</td>\n",
       "      <td>False</td>\n",
       "      <td>False</td>\n",
       "      <td>False</td>\n",
       "      <td>False</td>\n",
       "      <td>False</td>\n",
       "    </tr>\n",
       "  </tbody>\n",
       "</table>\n",
       "<p>2 rows × 23 columns</p>\n",
       "</div>"
      ],
      "text/plain": [
       "   audience_rating  rotten_tomatoes_link  movie_title  critics_consensus  \\\n",
       "0             41.0                     1           85                  0   \n",
       "1             27.0                     2           86                548   \n",
       "\n",
       "   content_rating  genres  directors  authors  actors  original_release_date  \\\n",
       "0               6     514        217        0    1340                   2093   \n",
       "1               6     164       1757     1256     443                   1139   \n",
       "\n",
       "   ...  tomatometer_count  tomatometer_status  tomatometer_top_critics_count  \\\n",
       "0  ...               29.0                   3                             14   \n",
       "1  ...               88.0                   3                             27   \n",
       "\n",
       "   tomatometer_fresh_critics_count  tomatometer_rotten_critics_count  \\\n",
       "0                                8                                21   \n",
       "1                               22                                66   \n",
       "\n",
       "   runtime_na  tomatometer_rating_na  tomatometer_count_na  \\\n",
       "0       False                  False                 False   \n",
       "1       False                  False                 False   \n",
       "\n",
       "   audience_rating_na  audience_count_na  \n",
       "0               False              False  \n",
       "1               False              False  \n",
       "\n",
       "[2 rows x 23 columns]"
      ]
     },
     "execution_count": 662,
     "metadata": {},
     "output_type": "execute_result"
    }
   ],
   "source": [
    "X_cat_t.drop(\"index\",inplace = True,axis = 1)\n",
    "X_cat_t.head(2)"
   ]
  },
  {
   "cell_type": "code",
   "execution_count": 663,
   "metadata": {},
   "outputs": [
    {
     "name": "stdout",
     "output_type": "stream",
     "text": [
      "(5314, 25)\n"
     ]
    },
    {
     "data": {
      "text/html": [
       "<div>\n",
       "<style scoped>\n",
       "    .dataframe tbody tr th:only-of-type {\n",
       "        vertical-align: middle;\n",
       "    }\n",
       "\n",
       "    .dataframe tbody tr th {\n",
       "        vertical-align: top;\n",
       "    }\n",
       "\n",
       "    .dataframe thead th {\n",
       "        text-align: right;\n",
       "    }\n",
       "</style>\n",
       "<table border=\"1\" class=\"dataframe\">\n",
       "  <thead>\n",
       "    <tr style=\"text-align: right;\">\n",
       "      <th></th>\n",
       "      <th>audience_rating</th>\n",
       "      <th>rotten_tomatoes_link</th>\n",
       "      <th>movie_title</th>\n",
       "      <th>critics_consensus</th>\n",
       "      <th>content_rating</th>\n",
       "      <th>genres</th>\n",
       "      <th>directors</th>\n",
       "      <th>authors</th>\n",
       "      <th>actors</th>\n",
       "      <th>original_release_date</th>\n",
       "      <th>...</th>\n",
       "      <th>tomatometer_top_critics_count</th>\n",
       "      <th>tomatometer_fresh_critics_count</th>\n",
       "      <th>tomatometer_rotten_critics_count</th>\n",
       "      <th>runtime_na</th>\n",
       "      <th>tomatometer_rating_na</th>\n",
       "      <th>tomatometer_count_na</th>\n",
       "      <th>audience_rating_na</th>\n",
       "      <th>audience_count_na</th>\n",
       "      <th>runtime</th>\n",
       "      <th>audience_count</th>\n",
       "    </tr>\n",
       "  </thead>\n",
       "  <tbody>\n",
       "    <tr>\n",
       "      <th>0</th>\n",
       "      <td>41.0</td>\n",
       "      <td>1</td>\n",
       "      <td>85</td>\n",
       "      <td>0</td>\n",
       "      <td>6</td>\n",
       "      <td>514</td>\n",
       "      <td>217</td>\n",
       "      <td>0</td>\n",
       "      <td>1340</td>\n",
       "      <td>2093</td>\n",
       "      <td>...</td>\n",
       "      <td>14</td>\n",
       "      <td>8</td>\n",
       "      <td>21</td>\n",
       "      <td>False</td>\n",
       "      <td>False</td>\n",
       "      <td>False</td>\n",
       "      <td>False</td>\n",
       "      <td>False</td>\n",
       "      <td>-0.335616</td>\n",
       "      <td>-0.081539</td>\n",
       "    </tr>\n",
       "    <tr>\n",
       "      <th>1</th>\n",
       "      <td>27.0</td>\n",
       "      <td>2</td>\n",
       "      <td>86</td>\n",
       "      <td>548</td>\n",
       "      <td>6</td>\n",
       "      <td>164</td>\n",
       "      <td>1757</td>\n",
       "      <td>1256</td>\n",
       "      <td>443</td>\n",
       "      <td>1139</td>\n",
       "      <td>...</td>\n",
       "      <td>27</td>\n",
       "      <td>22</td>\n",
       "      <td>66</td>\n",
       "      <td>False</td>\n",
       "      <td>False</td>\n",
       "      <td>False</td>\n",
       "      <td>False</td>\n",
       "      <td>False</td>\n",
       "      <td>0.088291</td>\n",
       "      <td>-0.056725</td>\n",
       "    </tr>\n",
       "  </tbody>\n",
       "</table>\n",
       "<p>2 rows × 25 columns</p>\n",
       "</div>"
      ],
      "text/plain": [
       "   audience_rating  rotten_tomatoes_link  movie_title  critics_consensus  \\\n",
       "0             41.0                     1           85                  0   \n",
       "1             27.0                     2           86                548   \n",
       "\n",
       "   content_rating  genres  directors  authors  actors  original_release_date  \\\n",
       "0               6     514        217        0    1340                   2093   \n",
       "1               6     164       1757     1256     443                   1139   \n",
       "\n",
       "   ...  tomatometer_top_critics_count  tomatometer_fresh_critics_count  \\\n",
       "0  ...                             14                                8   \n",
       "1  ...                             27                               22   \n",
       "\n",
       "   tomatometer_rotten_critics_count  runtime_na  tomatometer_rating_na  \\\n",
       "0                                21       False                  False   \n",
       "1                                66       False                  False   \n",
       "\n",
       "   tomatometer_count_na  audience_rating_na  audience_count_na   runtime  \\\n",
       "0                 False               False              False -0.335616   \n",
       "1                 False               False              False  0.088291   \n",
       "\n",
       "   audience_count  \n",
       "0       -0.081539  \n",
       "1       -0.056725  \n",
       "\n",
       "[2 rows x 25 columns]"
      ]
     },
     "execution_count": 663,
     "metadata": {},
     "output_type": "execute_result"
    }
   ],
   "source": [
    "#Merge the two sets of columns\n",
    "df_list_I = [X_cat_t,X_con_sct]\n",
    "X_test_I = pd.concat(df_list_I,axis = 1)\n",
    "print(X_test_I.shape)\n",
    "X_test_I.head(2)"
   ]
  },
  {
   "cell_type": "code",
   "execution_count": 664,
   "metadata": {},
   "outputs": [],
   "source": [
    "#Now we are ready to test it out. Let's load the saved model first.\n",
    "kNN_loaded = joblib.load(f'{my_path}/knn_model/knn_model_final.sav')"
   ]
  },
  {
   "cell_type": "code",
   "execution_count": 665,
   "metadata": {},
   "outputs": [
    {
     "name": "stderr",
     "output_type": "stream",
     "text": [
      "/Users/melody/opt/anaconda3/lib/python3.9/site-packages/sklearn/neighbors/_classification.py:228: FutureWarning: Unlike other reduction functions (e.g. `skew`, `kurtosis`), the default behavior of `mode` typically preserves the axis it acts along. In SciPy 1.11.0, this behavior will change: the default value of `keepdims` will become False, the `axis` over which the statistic is taken will be eliminated, and the value None will no longer be accepted. Set `keepdims` to True or False to avoid this warning.\n",
      "  mode, _ = stats.mode(_y[neigh_ind, k], axis=1)\n"
     ]
    }
   ],
   "source": [
    "#Testing...\n",
    "Y_test_pred = kNN_loaded.predict(X_test_I)"
   ]
  },
  {
   "cell_type": "code",
   "execution_count": 666,
   "metadata": {},
   "outputs": [
    {
     "name": "stdout",
     "output_type": "stream",
     "text": [
      "0.5148663906661648 0.04382210625759755 0.500308353738613\n"
     ]
    }
   ],
   "source": [
    "print(accuracy_score(Y_t,Y_test_pred),\n",
    "      matthews_corrcoef(Y_t,Y_test_pred),\n",
    "      f1_score(Y_t,Y_test_pred,average='weighted'))"
   ]
  },
  {
   "cell_type": "code",
   "execution_count": 667,
   "metadata": {},
   "outputs": [],
   "source": [
    "#Done! Our kNN model is not doing great on this dataset but as Ram said, what we learnt how to properly use machine learning is more important."
   ]
  },
  {
   "cell_type": "code",
   "execution_count": 668,
   "metadata": {},
   "outputs": [
    {
     "name": "stdout",
     "output_type": "stream",
     "text": [
      "(12398, 26)\n",
      "(5314, 26)\n"
     ]
    }
   ],
   "source": [
    "#Write out full train_valid and test dataframes \n",
    "\n",
    "X_full[\"Survived\"] = Y\n",
    "X_test_I[\"Survived\"] = Y_t\n",
    "\n",
    "print(X_full.shape)\n",
    "print(X_test_I.shape)"
   ]
  }
 ],
 "metadata": {
  "kernelspec": {
   "display_name": "Python 3 (ipykernel)",
   "language": "python",
   "name": "python3"
  },
  "language_info": {
   "codemirror_mode": {
    "name": "ipython",
    "version": 3
   },
   "file_extension": ".py",
   "mimetype": "text/x-python",
   "name": "python",
   "nbconvert_exporter": "python",
   "pygments_lexer": "ipython3",
   "version": "3.9.13"
  }
 },
 "nbformat": 4,
 "nbformat_minor": 2
}
